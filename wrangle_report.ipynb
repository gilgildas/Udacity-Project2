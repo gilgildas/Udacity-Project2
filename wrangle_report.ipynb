{
 "cells": [
  {
   "cell_type": "markdown",
   "id": "5e94be1d",
   "metadata": {},
   "source": [
    "# Wrangle Report"
   ]
  },
  {
   "cell_type": "markdown",
   "id": "6a3c2a9c",
   "metadata": {},
   "source": [
    "## Introduction\n",
    "The purpose of the project is to wrangle weratedog dataset to find the untidy and data quality issues. Next, is to clean the datasets before finding the insight."
   ]
  },
  {
   "cell_type": "markdown",
   "id": "2a193e90",
   "metadata": {},
   "source": [
    "## Wrangling"
   ]
  },
  {
   "cell_type": "markdown",
   "id": "1efcbd27",
   "metadata": {},
   "source": [
    "First, we gathered the data by downloading \"twitter-archive-enhanced.csv\", using the request library to download \"image-predictions.tsv\", and downloading \"tweet-json.txt\" because we cannot access the Twitter API. After gathering three datasets we assessed datasets visually and programmatically. We found tidiness and quality issues which are highlighted below.\n",
    "\n",
    "<strong>Data Tidyness Issues</strong>\n",
    "<ol>\n",
    "    <li>The timestamp column combines date and time and they should be split into 2 columns. </li>\n",
    "    <li> The created_at combines date and time and they should be split into 2 columns.</li>\n",
    "    <li> All of the datasets should be combined into one, so we have to combine the archive, image, and json datasets into one.</li>\n",
    "</ol>\n",
    "\n",
    "<strong>Data Quality Issues</strong>\n",
    "<ol>\n",
    "    <li><strong>Data Incompleteness: </strong>The archive dataset has missing values.</li>\n",
    "    <li><strong>Data Incompleteness:</strong>The json dataset has missing values.</li>\n",
    "     <li><strong>Data Incompleteness:</strong> The image dataset has missing rows.</li>\n",
    "    <li><strong>Data Incompleteness: </strong> The json dataset has missing rows.</li>\n",
    "    <li><strong>Inappropriate Data Types: </strong> The created_at and timestamp columns have incorrect data type they should have datetime as datatype.</li> \n",
    "    <li><strong>Inappropriate Data Types: </strong> The tweet_id and id columns have incorrect data types they should have object as a datatype.</li> \n",
    "   <li><strong>Data Inconsistency: </strong>The  denominator column has different values. All values should have the same denominator.\n",
    " </li> \n",
    "    <li><strong>Data Redundancy: </strong>The full_text, and source columns are in archive and json datasets.</li> \n",
    "    <li><strong>Duplicate columns:</strong>The possibly_sensitive, possibly_sensitive_appealable columns have the values and there are meaningless to the analysis. they should be dropped.\n",
    " </li> \n",
    "     <li><strong>Data Inconsistency: </strong>The p1,p2, and p3 columns have values in lowercase and others in uppercase. All values should be in lowercase.</li> \n",
    "    <li><strong>Naming inconsistency:</strong> The id column should be renamed as tweet_id. It will help us to  merge Json datasets to archive and image dataframes.</li> \n",
    "</ol>\n",
    "\n",
    "\n",
    "## Conclusion\n",
    "We have wrangled the three datasets and combined them before starting performing the data exploratory analysis. We found that the datasets have both tidyness and data quality issues.\n",
    "### Limitation\n",
    "However, we did not solve all issues in datasets because we don't have enough information about all columns. We didn't use the Twitter API to ddownload the tweet json dataset because they didn't give me the accesss."
   ]
  },
  {
   "cell_type": "code",
   "execution_count": null,
   "id": "70f313c2",
   "metadata": {},
   "outputs": [],
   "source": []
  }
 ],
 "metadata": {
  "kernelspec": {
   "display_name": "Python 3 (ipykernel)",
   "language": "python",
   "name": "python3"
  },
  "language_info": {
   "codemirror_mode": {
    "name": "ipython",
    "version": 3
   },
   "file_extension": ".py",
   "mimetype": "text/x-python",
   "name": "python",
   "nbconvert_exporter": "python",
   "pygments_lexer": "ipython3",
   "version": "3.9.12"
  }
 },
 "nbformat": 4,
 "nbformat_minor": 5
}
