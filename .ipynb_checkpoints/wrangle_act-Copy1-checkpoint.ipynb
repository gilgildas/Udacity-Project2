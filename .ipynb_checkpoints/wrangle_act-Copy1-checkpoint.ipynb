{
 "cells": [
  {
   "cell_type": "code",
   "execution_count": null,
   "id": "5285748b",
   "metadata": {},
   "outputs": [],
   "source": [
    "# Import required libraries\n",
    "import tweepy\n",
    "import json\n",
    "import requests\n",
    "import pandas as pd\n",
    "import numpy as np\n",
    "import seaborn as sns\n",
    "import matplotlib.pyplot as plt\n",
    "import klib\n",
    "import datetime as dt\n",
    "%matplotlib inline"
   ]
  },
  {
   "cell_type": "markdown",
   "id": "cb0ed50c",
   "metadata": {},
   "source": [
    "# Gathering Data"
   ]
  },
  {
   "cell_type": "code",
   "execution_count": 2,
   "id": "1c4e0716",
   "metadata": {},
   "outputs": [],
   "source": [
    "#Load twitter archive enhanced dataset\n",
    "pd.set_option('display.max_columns', 30)\n",
    "df_archive=pd.read_csv('twitter-archive-enhanced.csv')"
   ]
  },
  {
   "cell_type": "code",
   "execution_count": 3,
   "id": "36f62959",
   "metadata": {},
   "outputs": [
    {
     "data": {
      "text/plain": [
       "335079"
      ]
     },
     "execution_count": 3,
     "metadata": {},
     "output_type": "execute_result"
    }
   ],
   "source": [
    "#Download image prediction dataset using request\n",
    "url = 'https://d17h27t6h515a5.cloudfront.net/topher/2017/August/599fd2ad_image-predictions/image-predictions.tsv'\n",
    "r = requests.get(url, allow_redirects=True)\n",
    "open('image-predictions.tsv', 'wb').write(r.content)"
   ]
  },
  {
   "cell_type": "code",
   "execution_count": 4,
   "id": "07526fed",
   "metadata": {},
   "outputs": [],
   "source": [
    "#load image prediction dataset\n",
    "df_image=pd.read_csv('image-predictions.tsv', sep='\\t')"
   ]
  },
  {
   "cell_type": "markdown",
   "id": "59fecc54",
   "metadata": {},
   "source": [
    "<strong>Assessing Data Visually</strong>"
   ]
  },
  {
   "cell_type": "code",
   "execution_count": 5,
   "id": "c5048749",
   "metadata": {},
   "outputs": [
    {
     "data": {
      "text/html": [
       "<div>\n",
       "<style scoped>\n",
       "    .dataframe tbody tr th:only-of-type {\n",
       "        vertical-align: middle;\n",
       "    }\n",
       "\n",
       "    .dataframe tbody tr th {\n",
       "        vertical-align: top;\n",
       "    }\n",
       "\n",
       "    .dataframe thead th {\n",
       "        text-align: right;\n",
       "    }\n",
       "</style>\n",
       "<table border=\"1\" class=\"dataframe\">\n",
       "  <thead>\n",
       "    <tr style=\"text-align: right;\">\n",
       "      <th></th>\n",
       "      <th>tweet_id</th>\n",
       "      <th>in_reply_to_status_id</th>\n",
       "      <th>in_reply_to_user_id</th>\n",
       "      <th>timestamp</th>\n",
       "      <th>source</th>\n",
       "      <th>text</th>\n",
       "      <th>retweeted_status_id</th>\n",
       "      <th>retweeted_status_user_id</th>\n",
       "      <th>retweeted_status_timestamp</th>\n",
       "      <th>expanded_urls</th>\n",
       "      <th>rating_numerator</th>\n",
       "      <th>rating_denominator</th>\n",
       "      <th>name</th>\n",
       "      <th>doggo</th>\n",
       "      <th>floofer</th>\n",
       "      <th>pupper</th>\n",
       "      <th>puppo</th>\n",
       "    </tr>\n",
       "  </thead>\n",
       "  <tbody>\n",
       "    <tr>\n",
       "      <th>0</th>\n",
       "      <td>892420643555336193</td>\n",
       "      <td>NaN</td>\n",
       "      <td>NaN</td>\n",
       "      <td>2017-08-01 16:23:56 +0000</td>\n",
       "      <td>&lt;a href=\"http://twitter.com/download/iphone\" r...</td>\n",
       "      <td>This is Phineas. He's a mystical boy. Only eve...</td>\n",
       "      <td>NaN</td>\n",
       "      <td>NaN</td>\n",
       "      <td>NaN</td>\n",
       "      <td>https://twitter.com/dog_rates/status/892420643...</td>\n",
       "      <td>13</td>\n",
       "      <td>10</td>\n",
       "      <td>Phineas</td>\n",
       "      <td>None</td>\n",
       "      <td>None</td>\n",
       "      <td>None</td>\n",
       "      <td>None</td>\n",
       "    </tr>\n",
       "    <tr>\n",
       "      <th>1</th>\n",
       "      <td>892177421306343426</td>\n",
       "      <td>NaN</td>\n",
       "      <td>NaN</td>\n",
       "      <td>2017-08-01 00:17:27 +0000</td>\n",
       "      <td>&lt;a href=\"http://twitter.com/download/iphone\" r...</td>\n",
       "      <td>This is Tilly. She's just checking pup on you....</td>\n",
       "      <td>NaN</td>\n",
       "      <td>NaN</td>\n",
       "      <td>NaN</td>\n",
       "      <td>https://twitter.com/dog_rates/status/892177421...</td>\n",
       "      <td>13</td>\n",
       "      <td>10</td>\n",
       "      <td>Tilly</td>\n",
       "      <td>None</td>\n",
       "      <td>None</td>\n",
       "      <td>None</td>\n",
       "      <td>None</td>\n",
       "    </tr>\n",
       "    <tr>\n",
       "      <th>2</th>\n",
       "      <td>891815181378084864</td>\n",
       "      <td>NaN</td>\n",
       "      <td>NaN</td>\n",
       "      <td>2017-07-31 00:18:03 +0000</td>\n",
       "      <td>&lt;a href=\"http://twitter.com/download/iphone\" r...</td>\n",
       "      <td>This is Archie. He is a rare Norwegian Pouncin...</td>\n",
       "      <td>NaN</td>\n",
       "      <td>NaN</td>\n",
       "      <td>NaN</td>\n",
       "      <td>https://twitter.com/dog_rates/status/891815181...</td>\n",
       "      <td>12</td>\n",
       "      <td>10</td>\n",
       "      <td>Archie</td>\n",
       "      <td>None</td>\n",
       "      <td>None</td>\n",
       "      <td>None</td>\n",
       "      <td>None</td>\n",
       "    </tr>\n",
       "    <tr>\n",
       "      <th>3</th>\n",
       "      <td>891689557279858688</td>\n",
       "      <td>NaN</td>\n",
       "      <td>NaN</td>\n",
       "      <td>2017-07-30 15:58:51 +0000</td>\n",
       "      <td>&lt;a href=\"http://twitter.com/download/iphone\" r...</td>\n",
       "      <td>This is Darla. She commenced a snooze mid meal...</td>\n",
       "      <td>NaN</td>\n",
       "      <td>NaN</td>\n",
       "      <td>NaN</td>\n",
       "      <td>https://twitter.com/dog_rates/status/891689557...</td>\n",
       "      <td>13</td>\n",
       "      <td>10</td>\n",
       "      <td>Darla</td>\n",
       "      <td>None</td>\n",
       "      <td>None</td>\n",
       "      <td>None</td>\n",
       "      <td>None</td>\n",
       "    </tr>\n",
       "    <tr>\n",
       "      <th>4</th>\n",
       "      <td>891327558926688256</td>\n",
       "      <td>NaN</td>\n",
       "      <td>NaN</td>\n",
       "      <td>2017-07-29 16:00:24 +0000</td>\n",
       "      <td>&lt;a href=\"http://twitter.com/download/iphone\" r...</td>\n",
       "      <td>This is Franklin. He would like you to stop ca...</td>\n",
       "      <td>NaN</td>\n",
       "      <td>NaN</td>\n",
       "      <td>NaN</td>\n",
       "      <td>https://twitter.com/dog_rates/status/891327558...</td>\n",
       "      <td>12</td>\n",
       "      <td>10</td>\n",
       "      <td>Franklin</td>\n",
       "      <td>None</td>\n",
       "      <td>None</td>\n",
       "      <td>None</td>\n",
       "      <td>None</td>\n",
       "    </tr>\n",
       "  </tbody>\n",
       "</table>\n",
       "</div>"
      ],
      "text/plain": [
       "             tweet_id  in_reply_to_status_id  in_reply_to_user_id  \\\n",
       "0  892420643555336193                    NaN                  NaN   \n",
       "1  892177421306343426                    NaN                  NaN   \n",
       "2  891815181378084864                    NaN                  NaN   \n",
       "3  891689557279858688                    NaN                  NaN   \n",
       "4  891327558926688256                    NaN                  NaN   \n",
       "\n",
       "                   timestamp  \\\n",
       "0  2017-08-01 16:23:56 +0000   \n",
       "1  2017-08-01 00:17:27 +0000   \n",
       "2  2017-07-31 00:18:03 +0000   \n",
       "3  2017-07-30 15:58:51 +0000   \n",
       "4  2017-07-29 16:00:24 +0000   \n",
       "\n",
       "                                              source  \\\n",
       "0  <a href=\"http://twitter.com/download/iphone\" r...   \n",
       "1  <a href=\"http://twitter.com/download/iphone\" r...   \n",
       "2  <a href=\"http://twitter.com/download/iphone\" r...   \n",
       "3  <a href=\"http://twitter.com/download/iphone\" r...   \n",
       "4  <a href=\"http://twitter.com/download/iphone\" r...   \n",
       "\n",
       "                                                text  retweeted_status_id  \\\n",
       "0  This is Phineas. He's a mystical boy. Only eve...                  NaN   \n",
       "1  This is Tilly. She's just checking pup on you....                  NaN   \n",
       "2  This is Archie. He is a rare Norwegian Pouncin...                  NaN   \n",
       "3  This is Darla. She commenced a snooze mid meal...                  NaN   \n",
       "4  This is Franklin. He would like you to stop ca...                  NaN   \n",
       "\n",
       "   retweeted_status_user_id retweeted_status_timestamp  \\\n",
       "0                       NaN                        NaN   \n",
       "1                       NaN                        NaN   \n",
       "2                       NaN                        NaN   \n",
       "3                       NaN                        NaN   \n",
       "4                       NaN                        NaN   \n",
       "\n",
       "                                       expanded_urls  rating_numerator  \\\n",
       "0  https://twitter.com/dog_rates/status/892420643...                13   \n",
       "1  https://twitter.com/dog_rates/status/892177421...                13   \n",
       "2  https://twitter.com/dog_rates/status/891815181...                12   \n",
       "3  https://twitter.com/dog_rates/status/891689557...                13   \n",
       "4  https://twitter.com/dog_rates/status/891327558...                12   \n",
       "\n",
       "   rating_denominator      name doggo floofer pupper puppo  \n",
       "0                  10   Phineas  None    None   None  None  \n",
       "1                  10     Tilly  None    None   None  None  \n",
       "2                  10    Archie  None    None   None  None  \n",
       "3                  10     Darla  None    None   None  None  \n",
       "4                  10  Franklin  None    None   None  None  "
      ]
     },
     "execution_count": 5,
     "metadata": {},
     "output_type": "execute_result"
    }
   ],
   "source": [
    "df_archive.head()"
   ]
  },
  {
   "cell_type": "code",
   "execution_count": null,
   "id": "acf34132",
   "metadata": {},
   "outputs": [],
   "source": [
    "# summarize information\n",
    "df_archive.info()"
   ]
  },
  {
   "cell_type": "code",
   "execution_count": 10,
   "id": "7384cb59",
   "metadata": {},
   "outputs": [
    {
     "data": {
      "text/plain": [
       "(2356, 17)"
      ]
     },
     "execution_count": 10,
     "metadata": {},
     "output_type": "execute_result"
    }
   ],
   "source": [
    "#Check the dimensions\n",
    "df_archive.shape"
   ]
  },
  {
   "cell_type": "code",
   "execution_count": null,
   "id": "09452c79",
   "metadata": {},
   "outputs": [],
   "source": [
    "#Load image dataset\n",
    "df_image=pd.read_csv('image-predictions.tsv', sep='\\t')"
   ]
  },
  {
   "cell_type": "code",
   "execution_count": null,
   "id": "c9d766fb",
   "metadata": {},
   "outputs": [],
   "source": [
    "#Display first five rows\n",
    "df_image.head()"
   ]
  },
  {
   "cell_type": "code",
   "execution_count": null,
   "id": "8432f732",
   "metadata": {},
   "outputs": [],
   "source": [
    "#Display last five rows\n",
    "df_image.tail()"
   ]
  },
  {
   "cell_type": "code",
   "execution_count": 14,
   "id": "53ed7540",
   "metadata": {},
   "outputs": [
    {
     "data": {
      "text/plain": [
       "(2075, 12)"
      ]
     },
     "execution_count": 14,
     "metadata": {},
     "output_type": "execute_result"
    }
   ],
   "source": [
    "#Check the dimensions\n",
    "df_image.shape"
   ]
  },
  {
   "cell_type": "code",
   "execution_count": 16,
   "id": "e85ca319",
   "metadata": {},
   "outputs": [],
   "source": [
    "#Load Json dataset\n",
    "df_tweet_json=pd.read_json('tweet-json.txt', lines=True)"
   ]
  },
  {
   "cell_type": "code",
   "execution_count": null,
   "id": "8a56eceb",
   "metadata": {},
   "outputs": [],
   "source": [
    "#Display first five rows\n",
    "df_tweet_json.head()"
   ]
  },
  {
   "cell_type": "markdown",
   "id": "0caba88e",
   "metadata": {},
   "source": []
  },
  {
   "cell_type": "code",
   "execution_count": 19,
   "id": "f6eef544",
   "metadata": {},
   "outputs": [
    {
     "data": {
      "text/plain": [
       "(2354, 31)"
      ]
     },
     "execution_count": 19,
     "metadata": {},
     "output_type": "execute_result"
    }
   ],
   "source": [
    "#Check the dimensions\n",
    "df_tweet_json.shape"
   ]
  },
  {
   "cell_type": "markdown",
   "id": "2dd63ddb",
   "metadata": {},
   "source": [
    "<strong>Assessing Programmatically</strong>"
   ]
  },
  {
   "cell_type": "code",
   "execution_count": 20,
   "id": "09fec5fa",
   "metadata": {},
   "outputs": [
    {
     "data": {
      "text/plain": [
       "10     2333\n",
       "11        3\n",
       "50        3\n",
       "20        2\n",
       "80        2\n",
       "70        1\n",
       "7         1\n",
       "15        1\n",
       "150       1\n",
       "170       1\n",
       "0         1\n",
       "90        1\n",
       "40        1\n",
       "130       1\n",
       "110       1\n",
       "16        1\n",
       "120       1\n",
       "2         1\n",
       "Name: rating_denominator, dtype: int64"
      ]
     },
     "execution_count": 20,
     "metadata": {},
     "output_type": "execute_result"
    }
   ],
   "source": [
    "# check denominator values\n",
    "df_archive.rating_denominator.value_counts()"
   ]
  },
  {
   "cell_type": "code",
   "execution_count": 21,
   "id": "9c077730",
   "metadata": {},
   "outputs": [
    {
     "data": {
      "text/plain": [
       "1    1780\n",
       "2     198\n",
       "3      66\n",
       "4      31\n",
       "Name: img_num, dtype: int64"
      ]
     },
     "execution_count": 21,
     "metadata": {},
     "output_type": "execute_result"
    }
   ],
   "source": [
    "#Check image number of tweet\n",
    "df_image.img_num.value_counts()"
   ]
  },
  {
   "cell_type": "code",
   "execution_count": 22,
   "id": "3af9fdeb",
   "metadata": {},
   "outputs": [
    {
     "data": {
      "text/plain": [
       "None          745\n",
       "a              55\n",
       "Charlie        12\n",
       "Cooper         11\n",
       "Lucy           11\n",
       "             ... \n",
       "Dex             1\n",
       "Ace             1\n",
       "Tayzie          1\n",
       "Grizzie         1\n",
       "Christoper      1\n",
       "Name: name, Length: 957, dtype: int64"
      ]
     },
     "execution_count": 22,
     "metadata": {},
     "output_type": "execute_result"
    }
   ],
   "source": [
    "# check if every dog has name\n",
    "df_archive.name.value_counts()"
   ]
  },
  {
   "cell_type": "code",
   "execution_count": null,
   "id": "99cdf462",
   "metadata": {},
   "outputs": [],
   "source": [
    "#check missing values as percentage of each column\n",
    "archive_missing_percentage = df_archive.isnull().sum()/df_archive.shape[0]*100\n",
    "archive_missing_percentage"
   ]
  },
  {
   "cell_type": "code",
   "execution_count": 25,
   "id": "9f7c4e73",
   "metadata": {},
   "outputs": [
    {
     "data": {
      "text/plain": [
       "0"
      ]
     },
     "execution_count": 25,
     "metadata": {},
     "output_type": "execute_result"
    }
   ],
   "source": [
    "# chech duplicate rows\n",
    "sum(df_archive.duplicated())"
   ]
  },
  {
   "cell_type": "code",
   "execution_count": 26,
   "id": "114a97cb",
   "metadata": {},
   "outputs": [
    {
     "data": {
      "text/plain": [
       "<a href=\"http://twitter.com/download/iphone\" rel=\"nofollow\">Twitter for iPhone</a>     2221\n",
       "<a href=\"http://vine.co\" rel=\"nofollow\">Vine - Make a Scene</a>                          91\n",
       "<a href=\"http://twitter.com\" rel=\"nofollow\">Twitter Web Client</a>                       33\n",
       "<a href=\"https://about.twitter.com/products/tweetdeck\" rel=\"nofollow\">TweetDeck</a>      11\n",
       "Name: source, dtype: int64"
      ]
     },
     "execution_count": 26,
     "metadata": {},
     "output_type": "execute_result"
    }
   ],
   "source": [
    "#Counts the values of each source.\n",
    "df_archive.source.value_counts()"
   ]
  },
  {
   "cell_type": "code",
   "execution_count": 27,
   "id": "6dda9fe3",
   "metadata": {},
   "outputs": [
    {
     "name": "stdout",
     "output_type": "stream",
     "text": [
      "<class 'pandas.core.frame.DataFrame'>\n",
      "RangeIndex: 2075 entries, 0 to 2074\n",
      "Data columns (total 12 columns):\n",
      " #   Column    Non-Null Count  Dtype  \n",
      "---  ------    --------------  -----  \n",
      " 0   tweet_id  2075 non-null   int64  \n",
      " 1   jpg_url   2075 non-null   object \n",
      " 2   img_num   2075 non-null   int64  \n",
      " 3   p1        2075 non-null   object \n",
      " 4   p1_conf   2075 non-null   float64\n",
      " 5   p1_dog    2075 non-null   bool   \n",
      " 6   p2        2075 non-null   object \n",
      " 7   p2_conf   2075 non-null   float64\n",
      " 8   p2_dog    2075 non-null   bool   \n",
      " 9   p3        2075 non-null   object \n",
      " 10  p3_conf   2075 non-null   float64\n",
      " 11  p3_dog    2075 non-null   bool   \n",
      "dtypes: bool(3), float64(3), int64(2), object(4)\n",
      "memory usage: 152.1+ KB\n"
     ]
    }
   ],
   "source": [
    "df_image.info()"
   ]
  },
  {
   "cell_type": "code",
   "execution_count": 28,
   "id": "9d80d1de",
   "metadata": {},
   "outputs": [
    {
     "name": "stdout",
     "output_type": "stream",
     "text": [
      "<class 'pandas.core.frame.DataFrame'>\n",
      "RangeIndex: 2354 entries, 0 to 2353\n",
      "Data columns (total 31 columns):\n",
      " #   Column                         Non-Null Count  Dtype              \n",
      "---  ------                         --------------  -----              \n",
      " 0   created_at                     2354 non-null   datetime64[ns, UTC]\n",
      " 1   id                             2354 non-null   int64              \n",
      " 2   id_str                         2354 non-null   int64              \n",
      " 3   full_text                      2354 non-null   object             \n",
      " 4   truncated                      2354 non-null   bool               \n",
      " 5   display_text_range             2354 non-null   object             \n",
      " 6   entities                       2354 non-null   object             \n",
      " 7   extended_entities              2073 non-null   object             \n",
      " 8   source                         2354 non-null   object             \n",
      " 9   in_reply_to_status_id          78 non-null     float64            \n",
      " 10  in_reply_to_status_id_str      78 non-null     float64            \n",
      " 11  in_reply_to_user_id            78 non-null     float64            \n",
      " 12  in_reply_to_user_id_str        78 non-null     float64            \n",
      " 13  in_reply_to_screen_name        78 non-null     object             \n",
      " 14  user                           2354 non-null   object             \n",
      " 15  geo                            0 non-null      float64            \n",
      " 16  coordinates                    0 non-null      float64            \n",
      " 17  place                          1 non-null      object             \n",
      " 18  contributors                   0 non-null      float64            \n",
      " 19  is_quote_status                2354 non-null   bool               \n",
      " 20  retweet_count                  2354 non-null   int64              \n",
      " 21  favorite_count                 2354 non-null   int64              \n",
      " 22  favorited                      2354 non-null   bool               \n",
      " 23  retweeted                      2354 non-null   bool               \n",
      " 24  possibly_sensitive             2211 non-null   float64            \n",
      " 25  possibly_sensitive_appealable  2211 non-null   float64            \n",
      " 26  lang                           2354 non-null   object             \n",
      " 27  retweeted_status               179 non-null    object             \n",
      " 28  quoted_status_id               29 non-null     float64            \n",
      " 29  quoted_status_id_str           29 non-null     float64            \n",
      " 30  quoted_status                  28 non-null     object             \n",
      "dtypes: bool(4), datetime64[ns, UTC](1), float64(11), int64(4), object(11)\n",
      "memory usage: 505.9+ KB\n"
     ]
    }
   ],
   "source": [
    "df_tweet_json.info()"
   ]
  },
  {
   "cell_type": "code",
   "execution_count": 29,
   "id": "fd7d0474",
   "metadata": {},
   "outputs": [
    {
     "data": {
      "text/plain": [
       "created_at                         0.000000\n",
       "id                                 0.000000\n",
       "id_str                             0.000000\n",
       "full_text                          0.000000\n",
       "truncated                          0.000000\n",
       "display_text_range                 0.000000\n",
       "entities                           0.000000\n",
       "extended_entities                 11.937128\n",
       "source                             0.000000\n",
       "in_reply_to_status_id             96.686491\n",
       "in_reply_to_status_id_str         96.686491\n",
       "in_reply_to_user_id               96.686491\n",
       "in_reply_to_user_id_str           96.686491\n",
       "in_reply_to_screen_name           96.686491\n",
       "user                               0.000000\n",
       "geo                              100.000000\n",
       "coordinates                      100.000000\n",
       "place                             99.957519\n",
       "contributors                     100.000000\n",
       "is_quote_status                    0.000000\n",
       "retweet_count                      0.000000\n",
       "favorite_count                     0.000000\n",
       "favorited                          0.000000\n",
       "retweeted                          0.000000\n",
       "possibly_sensitive                 6.074766\n",
       "possibly_sensitive_appealable      6.074766\n",
       "lang                               0.000000\n",
       "retweeted_status                  92.395922\n",
       "quoted_status_id                  98.768054\n",
       "quoted_status_id_str              98.768054\n",
       "quoted_status                     98.810535\n",
       "dtype: float64"
      ]
     },
     "execution_count": 29,
     "metadata": {},
     "output_type": "execute_result"
    }
   ],
   "source": [
    "json_missing_percentage = df_tweet_json.isnull().sum()/df_tweet_json.shape[0]*100\n",
    "json_missing_percentage"
   ]
  },
  {
   "cell_type": "code",
   "execution_count": 30,
   "id": "6add98f6",
   "metadata": {},
   "outputs": [
    {
     "data": {
      "text/plain": [
       "0.0    2211\n",
       "Name: possibly_sensitive, dtype: int64"
      ]
     },
     "execution_count": 30,
     "metadata": {},
     "output_type": "execute_result"
    }
   ],
   "source": [
    "df_tweet_json.possibly_sensitive.value_counts()"
   ]
  },
  {
   "cell_type": "code",
   "execution_count": 31,
   "id": "d70afd97",
   "metadata": {},
   "outputs": [
    {
     "data": {
      "text/plain": [
       "0.0    2211\n",
       "Name: possibly_sensitive_appealable, dtype: int64"
      ]
     },
     "execution_count": 31,
     "metadata": {},
     "output_type": "execute_result"
    }
   ],
   "source": [
    "df_tweet_json.possibly_sensitive_appealable.value_counts()"
   ]
  },
  {
   "cell_type": "markdown",
   "id": "4f82fe76",
   "metadata": {},
   "source": [
    "## Data tidyness issues found"
   ]
  },
  {
   "cell_type": "markdown",
   "id": "46f646cd",
   "metadata": {},
   "source": [
    "<ol>\n",
    "<li>doggo, floofer, pupper and puppothey are separated but they should be combined to form one categorical column.</li>\n",
    "    <li>timestamp combines date and time  and they should be splitted into 2 columns  </li>\n",
    "    <li>created_at combines date and time  and they should be splitted into 2 columns  </li>\n",
    "    \n",
    "\t\n",
    "</ol>"
   ]
  },
  {
   "cell_type": "markdown",
   "id": "cd209843",
   "metadata": {},
   "source": [
    "## Data quality issues found\n"
   ]
  },
  {
   "cell_type": "markdown",
   "id": "196d4650",
   "metadata": {},
   "source": [
    "<ol>\n",
    "    <li><strong>Data Incompleteness: </strong>archive dataset has missing values.</li>\n",
    "    <li><strong>Data Incompleteness:</strong> tweet_json dataset has missing values.</li>\n",
    "     <li><strong>Data Incompleteness:</strong> image dataset has missing rows.</li>\n",
    "    <li><strong>Data Incompleteness: </strong> tweet_json dataset has missing rows.</li>\n",
    "    <li><strong>Inappropriate Data Types: </strong> created_at and timestamp columns have incorrect data type they should have datetime as datatype.</li> \n",
    "    <li><strong>Inappropriate Data Types: </strong> tweet_id and id coulmns have incorrect data type they should have object as datatype. </li> \n",
    "   <li><strong>Data Inconsistency: </strong> Denominator column has differnet vulue. All values should have the same denominator. </li> \n",
    "    <li><strong>Data Redundancy: </strong>full_text, and created_at columns, source. </li> \n",
    "    <li><strong>Duplicate columns: </strong>possibly_sensitive, possibly_sensitive_appealable have the values and there are meaningless to the analysis. they should be dropped </li> \n",
    "     <li><strong>Data Inconsistency: </strong>p1,p2,and p3 columns have some value in lowercase and other in uppercase. All values should be in lowercase. </li> \n",
    "    <li><strong>Naming inconsistency:</strong> id column should be renamed as tweet_id. It will help us in merging dataframes.</li> \n",
    "</ol>"
   ]
  },
  {
   "cell_type": "markdown",
   "id": "557ed076",
   "metadata": {},
   "source": [
    "## Cleaning Data"
   ]
  },
  {
   "cell_type": "code",
   "execution_count": 32,
   "id": "521a8114",
   "metadata": {},
   "outputs": [],
   "source": [
    "#Making copy of datasets\n",
    "df_archive_cleaned=df_archive.copy()\n",
    "df_image_cleaned=df_image.copy()\n",
    "df_tweet_json_cleaned=df_tweet_json.copy()\n"
   ]
  },
  {
   "cell_type": "markdown",
   "id": "ded09c56",
   "metadata": {},
   "source": [
    "### Cleaning df_archive_cleaned dataset"
   ]
  },
  {
   "cell_type": "markdown",
   "id": "4297c0eb",
   "metadata": {},
   "source": [
    "<strong> Define</strong>\n"
   ]
  },
  {
   "cell_type": "markdown",
   "id": "8b27eeb7",
   "metadata": {},
   "source": [
    "Drop columns that have from 90% of missing values "
   ]
  },
  {
   "cell_type": "markdown",
   "id": "c347c92e",
   "metadata": {},
   "source": [
    "<strong>code</strong>"
   ]
  },
  {
   "cell_type": "code",
   "execution_count": 33,
   "id": "9d4b60d2",
   "metadata": {},
   "outputs": [
    {
     "name": "stdout",
     "output_type": "stream",
     "text": [
      "Shape of cleaned data: (2356, 12)Remaining NAs: 59\n",
      "\n",
      "Changes:\n",
      "Dropped rows: 0\n",
      "     of which 0 duplicates. (Rows: [])\n",
      "Dropped columns: 5\n",
      "     of which 0 single valued.     Columns: []\n",
      "Dropped missing values: 11081\n",
      "Reduced memory by at least: 0.2 MB (-64.52%)\n",
      "\n"
     ]
    }
   ],
   "source": [
    "df_archive_cleaned=klib.data_cleaning(df_archive_cleaned)"
   ]
  },
  {
   "cell_type": "markdown",
   "id": "6e43669f",
   "metadata": {},
   "source": [
    "<strong>Test</strong>"
   ]
  },
  {
   "cell_type": "code",
   "execution_count": 34,
   "id": "8a08c443",
   "metadata": {},
   "outputs": [
    {
     "name": "stdout",
     "output_type": "stream",
     "text": [
      "<class 'pandas.core.frame.DataFrame'>\n",
      "RangeIndex: 2356 entries, 0 to 2355\n",
      "Data columns (total 12 columns):\n",
      " #   Column              Non-Null Count  Dtype   \n",
      "---  ------              --------------  -----   \n",
      " 0   tweet_id            2356 non-null   int64   \n",
      " 1   timestamp           2356 non-null   string  \n",
      " 2   source              2356 non-null   category\n",
      " 3   text                2356 non-null   string  \n",
      " 4   expanded_urls       2297 non-null   string  \n",
      " 5   rating_numerator    2356 non-null   int16   \n",
      " 6   rating_denominator  2356 non-null   int16   \n",
      " 7   name                2356 non-null   string  \n",
      " 8   doggo               2356 non-null   category\n",
      " 9   floofer             2356 non-null   category\n",
      " 10  pupper              2356 non-null   category\n",
      " 11  puppo               2356 non-null   category\n",
      "dtypes: category(5), int16(2), int64(1), string(4)\n",
      "memory usage: 113.5 KB\n"
     ]
    }
   ],
   "source": [
    "df_archive_cleaned.info()"
   ]
  },
  {
   "cell_type": "markdown",
   "id": "9104d1c6",
   "metadata": {},
   "source": [
    "All columns with more 90% of missing values have dropped."
   ]
  },
  {
   "cell_type": "markdown",
   "id": "bc16039d",
   "metadata": {},
   "source": [
    "<strong> Define</strong>"
   ]
  },
  {
   "cell_type": "markdown",
   "id": "bea2ca98",
   "metadata": {},
   "source": [
    "Change columns'wrong Data types"
   ]
  },
  {
   "cell_type": "markdown",
   "id": "6ddc9ad9",
   "metadata": {},
   "source": [
    "<strong>Code</strong>"
   ]
  },
  {
   "cell_type": "code",
   "execution_count": 35,
   "id": "65372d44",
   "metadata": {},
   "outputs": [],
   "source": [
    "df_archive_cleaned['tweet_id']=df_archive_cleaned['tweet_id'].astype(str)\n",
    "df_archive_cleaned['timestamp'] = pd.to_datetime(df_archive_cleaned['timestamp'])"
   ]
  },
  {
   "cell_type": "markdown",
   "id": "e8f50b3e",
   "metadata": {},
   "source": [
    "<strong>Test</strong>"
   ]
  },
  {
   "cell_type": "code",
   "execution_count": 36,
   "id": "72d1b891",
   "metadata": {},
   "outputs": [
    {
     "name": "stdout",
     "output_type": "stream",
     "text": [
      "<class 'pandas.core.frame.DataFrame'>\n",
      "RangeIndex: 2356 entries, 0 to 2355\n",
      "Data columns (total 12 columns):\n",
      " #   Column              Non-Null Count  Dtype              \n",
      "---  ------              --------------  -----              \n",
      " 0   tweet_id            2356 non-null   object             \n",
      " 1   timestamp           2356 non-null   datetime64[ns, UTC]\n",
      " 2   source              2356 non-null   category           \n",
      " 3   text                2356 non-null   string             \n",
      " 4   expanded_urls       2297 non-null   string             \n",
      " 5   rating_numerator    2356 non-null   int16              \n",
      " 6   rating_denominator  2356 non-null   int16              \n",
      " 7   name                2356 non-null   string             \n",
      " 8   doggo               2356 non-null   category           \n",
      " 9   floofer             2356 non-null   category           \n",
      " 10  pupper              2356 non-null   category           \n",
      " 11  puppo               2356 non-null   category           \n",
      "dtypes: category(5), datetime64[ns, UTC](1), int16(2), object(1), string(3)\n",
      "memory usage: 113.5+ KB\n"
     ]
    }
   ],
   "source": [
    "df_archive_cleaned.info()"
   ]
  },
  {
   "cell_type": "markdown",
   "id": "2bc9601b",
   "metadata": {},
   "source": [
    "<strong>Define</strong>"
   ]
  },
  {
   "cell_type": "markdown",
   "id": "b699ce09",
   "metadata": {},
   "source": [
    "Separating Date and time "
   ]
  },
  {
   "cell_type": "markdown",
   "id": "012b63dd",
   "metadata": {},
   "source": [
    "<strong>Code</strong>"
   ]
  },
  {
   "cell_type": "code",
   "execution_count": 37,
   "id": "73ee6f87",
   "metadata": {},
   "outputs": [],
   "source": [
    "df_archive_cleaned['date'] = pd.to_datetime(df_archive_cleaned['timestamp']).dt.date\n",
    "df_archive_cleaned['time'] = pd.to_datetime(df_archive_cleaned['timestamp']).dt.time"
   ]
  },
  {
   "cell_type": "markdown",
   "id": "d5c04f90",
   "metadata": {},
   "source": [
    "<strong>Test</strong>"
   ]
  },
  {
   "cell_type": "code",
   "execution_count": 38,
   "id": "ab7c4166",
   "metadata": {},
   "outputs": [
    {
     "data": {
      "text/html": [
       "<div>\n",
       "<style scoped>\n",
       "    .dataframe tbody tr th:only-of-type {\n",
       "        vertical-align: middle;\n",
       "    }\n",
       "\n",
       "    .dataframe tbody tr th {\n",
       "        vertical-align: top;\n",
       "    }\n",
       "\n",
       "    .dataframe thead th {\n",
       "        text-align: right;\n",
       "    }\n",
       "</style>\n",
       "<table border=\"1\" class=\"dataframe\">\n",
       "  <thead>\n",
       "    <tr style=\"text-align: right;\">\n",
       "      <th></th>\n",
       "      <th>tweet_id</th>\n",
       "      <th>timestamp</th>\n",
       "      <th>source</th>\n",
       "      <th>text</th>\n",
       "      <th>expanded_urls</th>\n",
       "      <th>rating_numerator</th>\n",
       "      <th>rating_denominator</th>\n",
       "      <th>name</th>\n",
       "      <th>doggo</th>\n",
       "      <th>floofer</th>\n",
       "      <th>pupper</th>\n",
       "      <th>puppo</th>\n",
       "      <th>date</th>\n",
       "      <th>time</th>\n",
       "    </tr>\n",
       "  </thead>\n",
       "  <tbody>\n",
       "    <tr>\n",
       "      <th>0</th>\n",
       "      <td>892420643555336193</td>\n",
       "      <td>2017-08-01 16:23:56+00:00</td>\n",
       "      <td>&lt;a href=\"http://twitter.com/download/iphone\" r...</td>\n",
       "      <td>This is Phineas. He's a mystical boy. Only eve...</td>\n",
       "      <td>https://twitter.com/dog_rates/status/892420643...</td>\n",
       "      <td>13</td>\n",
       "      <td>10</td>\n",
       "      <td>Phineas</td>\n",
       "      <td>None</td>\n",
       "      <td>None</td>\n",
       "      <td>None</td>\n",
       "      <td>None</td>\n",
       "      <td>2017-08-01</td>\n",
       "      <td>16:23:56</td>\n",
       "    </tr>\n",
       "    <tr>\n",
       "      <th>1</th>\n",
       "      <td>892177421306343426</td>\n",
       "      <td>2017-08-01 00:17:27+00:00</td>\n",
       "      <td>&lt;a href=\"http://twitter.com/download/iphone\" r...</td>\n",
       "      <td>This is Tilly. She's just checking pup on you....</td>\n",
       "      <td>https://twitter.com/dog_rates/status/892177421...</td>\n",
       "      <td>13</td>\n",
       "      <td>10</td>\n",
       "      <td>Tilly</td>\n",
       "      <td>None</td>\n",
       "      <td>None</td>\n",
       "      <td>None</td>\n",
       "      <td>None</td>\n",
       "      <td>2017-08-01</td>\n",
       "      <td>00:17:27</td>\n",
       "    </tr>\n",
       "    <tr>\n",
       "      <th>2</th>\n",
       "      <td>891815181378084864</td>\n",
       "      <td>2017-07-31 00:18:03+00:00</td>\n",
       "      <td>&lt;a href=\"http://twitter.com/download/iphone\" r...</td>\n",
       "      <td>This is Archie. He is a rare Norwegian Pouncin...</td>\n",
       "      <td>https://twitter.com/dog_rates/status/891815181...</td>\n",
       "      <td>12</td>\n",
       "      <td>10</td>\n",
       "      <td>Archie</td>\n",
       "      <td>None</td>\n",
       "      <td>None</td>\n",
       "      <td>None</td>\n",
       "      <td>None</td>\n",
       "      <td>2017-07-31</td>\n",
       "      <td>00:18:03</td>\n",
       "    </tr>\n",
       "    <tr>\n",
       "      <th>3</th>\n",
       "      <td>891689557279858688</td>\n",
       "      <td>2017-07-30 15:58:51+00:00</td>\n",
       "      <td>&lt;a href=\"http://twitter.com/download/iphone\" r...</td>\n",
       "      <td>This is Darla. She commenced a snooze mid meal...</td>\n",
       "      <td>https://twitter.com/dog_rates/status/891689557...</td>\n",
       "      <td>13</td>\n",
       "      <td>10</td>\n",
       "      <td>Darla</td>\n",
       "      <td>None</td>\n",
       "      <td>None</td>\n",
       "      <td>None</td>\n",
       "      <td>None</td>\n",
       "      <td>2017-07-30</td>\n",
       "      <td>15:58:51</td>\n",
       "    </tr>\n",
       "    <tr>\n",
       "      <th>4</th>\n",
       "      <td>891327558926688256</td>\n",
       "      <td>2017-07-29 16:00:24+00:00</td>\n",
       "      <td>&lt;a href=\"http://twitter.com/download/iphone\" r...</td>\n",
       "      <td>This is Franklin. He would like you to stop ca...</td>\n",
       "      <td>https://twitter.com/dog_rates/status/891327558...</td>\n",
       "      <td>12</td>\n",
       "      <td>10</td>\n",
       "      <td>Franklin</td>\n",
       "      <td>None</td>\n",
       "      <td>None</td>\n",
       "      <td>None</td>\n",
       "      <td>None</td>\n",
       "      <td>2017-07-29</td>\n",
       "      <td>16:00:24</td>\n",
       "    </tr>\n",
       "  </tbody>\n",
       "</table>\n",
       "</div>"
      ],
      "text/plain": [
       "             tweet_id                 timestamp  \\\n",
       "0  892420643555336193 2017-08-01 16:23:56+00:00   \n",
       "1  892177421306343426 2017-08-01 00:17:27+00:00   \n",
       "2  891815181378084864 2017-07-31 00:18:03+00:00   \n",
       "3  891689557279858688 2017-07-30 15:58:51+00:00   \n",
       "4  891327558926688256 2017-07-29 16:00:24+00:00   \n",
       "\n",
       "                                              source  \\\n",
       "0  <a href=\"http://twitter.com/download/iphone\" r...   \n",
       "1  <a href=\"http://twitter.com/download/iphone\" r...   \n",
       "2  <a href=\"http://twitter.com/download/iphone\" r...   \n",
       "3  <a href=\"http://twitter.com/download/iphone\" r...   \n",
       "4  <a href=\"http://twitter.com/download/iphone\" r...   \n",
       "\n",
       "                                                text  \\\n",
       "0  This is Phineas. He's a mystical boy. Only eve...   \n",
       "1  This is Tilly. She's just checking pup on you....   \n",
       "2  This is Archie. He is a rare Norwegian Pouncin...   \n",
       "3  This is Darla. She commenced a snooze mid meal...   \n",
       "4  This is Franklin. He would like you to stop ca...   \n",
       "\n",
       "                                       expanded_urls  rating_numerator  \\\n",
       "0  https://twitter.com/dog_rates/status/892420643...                13   \n",
       "1  https://twitter.com/dog_rates/status/892177421...                13   \n",
       "2  https://twitter.com/dog_rates/status/891815181...                12   \n",
       "3  https://twitter.com/dog_rates/status/891689557...                13   \n",
       "4  https://twitter.com/dog_rates/status/891327558...                12   \n",
       "\n",
       "   rating_denominator      name doggo floofer pupper puppo        date  \\\n",
       "0                  10   Phineas  None    None   None  None  2017-08-01   \n",
       "1                  10     Tilly  None    None   None  None  2017-08-01   \n",
       "2                  10    Archie  None    None   None  None  2017-07-31   \n",
       "3                  10     Darla  None    None   None  None  2017-07-30   \n",
       "4                  10  Franklin  None    None   None  None  2017-07-29   \n",
       "\n",
       "       time  \n",
       "0  16:23:56  \n",
       "1  00:17:27  \n",
       "2  00:18:03  \n",
       "3  15:58:51  \n",
       "4  16:00:24  "
      ]
     },
     "execution_count": 38,
     "metadata": {},
     "output_type": "execute_result"
    }
   ],
   "source": [
    "df_archive_cleaned.head()"
   ]
  },
  {
   "cell_type": "code",
   "execution_count": 39,
   "id": "326e9a37",
   "metadata": {},
   "outputs": [
    {
     "data": {
      "text/plain": [
       "12      558\n",
       "11      464\n",
       "10      461\n",
       "13      351\n",
       "9       158\n",
       "8       102\n",
       "7        55\n",
       "14       54\n",
       "5        37\n",
       "6        32\n",
       "3        19\n",
       "4        17\n",
       "2         9\n",
       "1         9\n",
       "75        2\n",
       "15        2\n",
       "420       2\n",
       "0         2\n",
       "80        1\n",
       "144       1\n",
       "17        1\n",
       "26        1\n",
       "20        1\n",
       "121       1\n",
       "143       1\n",
       "44        1\n",
       "60        1\n",
       "45        1\n",
       "50        1\n",
       "99        1\n",
       "204       1\n",
       "1776      1\n",
       "165       1\n",
       "666       1\n",
       "27        1\n",
       "182       1\n",
       "24        1\n",
       "960       1\n",
       "84        1\n",
       "88        1\n",
       "Name: rating_numerator, dtype: int64"
      ]
     },
     "execution_count": 39,
     "metadata": {},
     "output_type": "execute_result"
    }
   ],
   "source": [
    "df_archive.rating_numerator.value_counts()"
   ]
  },
  {
   "cell_type": "code",
   "execution_count": 40,
   "id": "b5c04da8",
   "metadata": {},
   "outputs": [
    {
     "data": {
      "text/plain": [
       "10     2333\n",
       "11        3\n",
       "50        3\n",
       "20        2\n",
       "80        2\n",
       "70        1\n",
       "7         1\n",
       "15        1\n",
       "150       1\n",
       "170       1\n",
       "0         1\n",
       "90        1\n",
       "40        1\n",
       "130       1\n",
       "110       1\n",
       "16        1\n",
       "120       1\n",
       "2         1\n",
       "Name: rating_denominator, dtype: int64"
      ]
     },
     "execution_count": 40,
     "metadata": {},
     "output_type": "execute_result"
    }
   ],
   "source": [
    "df_archive.rating_denominator.value_counts()"
   ]
  },
  {
   "cell_type": "code",
   "execution_count": null,
   "id": "7482f492",
   "metadata": {},
   "outputs": [],
   "source": []
  },
  {
   "cell_type": "markdown",
   "id": "06e53f58",
   "metadata": {},
   "source": [
    "<strong>Define</strong>"
   ]
  },
  {
   "cell_type": "markdown",
   "id": "150c5ac0",
   "metadata": {},
   "source": [
    "Rename the value of Source column"
   ]
  },
  {
   "cell_type": "markdown",
   "id": "210b761b",
   "metadata": {},
   "source": [
    "<strong>Code</strong>"
   ]
  },
  {
   "cell_type": "code",
   "execution_count": 41,
   "id": "1bb4e5f1",
   "metadata": {},
   "outputs": [
    {
     "data": {
      "text/plain": [
       "<a href=\"http://twitter.com/download/iphone\" rel=\"nofollow\">Twitter for iPhone</a>     2221\n",
       "<a href=\"http://vine.co\" rel=\"nofollow\">Vine - Make a Scene</a>                          91\n",
       "<a href=\"http://twitter.com\" rel=\"nofollow\">Twitter Web Client</a>                       33\n",
       "<a href=\"https://about.twitter.com/products/tweetdeck\" rel=\"nofollow\">TweetDeck</a>      11\n",
       "Name: source, dtype: int64"
      ]
     },
     "execution_count": 41,
     "metadata": {},
     "output_type": "execute_result"
    }
   ],
   "source": [
    "df_archive.source.value_counts()"
   ]
  },
  {
   "cell_type": "code",
   "execution_count": 42,
   "id": "6e51e17b",
   "metadata": {},
   "outputs": [
    {
     "name": "stderr",
     "output_type": "stream",
     "text": [
      "C:\\Users\\GILDAS-PC\\AppData\\Local\\Temp\\ipykernel_6700\\1686744277.py:1: FutureWarning: The default value of regex will change from True to False in a future version.\n",
      "  df_archive_cleaned['source'] = df_archive_cleaned['source'].str.replace('<a href=\"http://twitter.com/download/iphone\" rel=\"nofollow\">Twitter for iPhone</a>', \"iPhone\")\n",
      "C:\\Users\\GILDAS-PC\\AppData\\Local\\Temp\\ipykernel_6700\\1686744277.py:2: FutureWarning: The default value of regex will change from True to False in a future version.\n",
      "  df_archive_cleaned['source']  =  df_archive_cleaned['source'].str.replace('<a href=\"http://vine.co\" rel=\"nofollow\">Vine - Make a Scene</a>', \"Vine\")\n",
      "C:\\Users\\GILDAS-PC\\AppData\\Local\\Temp\\ipykernel_6700\\1686744277.py:3: FutureWarning: The default value of regex will change from True to False in a future version.\n",
      "  df_archive_cleaned['source'] = df_archive_cleaned['source'].str.replace('<a href=\"http://twitter.com\" rel=\"nofollow\">Twitter Web Client</a>', \"Twitter Web\")\n",
      "C:\\Users\\GILDAS-PC\\AppData\\Local\\Temp\\ipykernel_6700\\1686744277.py:4: FutureWarning: The default value of regex will change from True to False in a future version.\n",
      "  df_archive_cleaned['source'] = df_archive_cleaned['source'].str.replace('<a href=\"https://about.twitter.com/products/tweetdeck\" rel=\"nofollow\">TweetDeck</a>', \"TweetDeck\")\n"
     ]
    }
   ],
   "source": [
    "df_archive_cleaned['source'] = df_archive_cleaned['source'].str.replace('<a href=\"http://twitter.com/download/iphone\" rel=\"nofollow\">Twitter for iPhone</a>', \"iPhone\")\n",
    "df_archive_cleaned['source']  =  df_archive_cleaned['source'].str.replace('<a href=\"http://vine.co\" rel=\"nofollow\">Vine - Make a Scene</a>', \"Vine\")\n",
    "df_archive_cleaned['source'] = df_archive_cleaned['source'].str.replace('<a href=\"http://twitter.com\" rel=\"nofollow\">Twitter Web Client</a>', \"Twitter Web\")\n",
    "df_archive_cleaned['source'] = df_archive_cleaned['source'].str.replace('<a href=\"https://about.twitter.com/products/tweetdeck\" rel=\"nofollow\">TweetDeck</a>', \"TweetDeck\")"
   ]
  },
  {
   "cell_type": "markdown",
   "id": "bb64daee",
   "metadata": {},
   "source": [
    "<strong>Test</strong>"
   ]
  },
  {
   "cell_type": "code",
   "execution_count": 43,
   "id": "39da19b3",
   "metadata": {},
   "outputs": [
    {
     "data": {
      "text/plain": [
       "iPhone         2221\n",
       "Vine             91\n",
       "Twitter Web      33\n",
       "TweetDeck        11\n",
       "Name: source, dtype: int64"
      ]
     },
     "execution_count": 43,
     "metadata": {},
     "output_type": "execute_result"
    }
   ],
   "source": [
    "df_archive_cleaned.source.value_counts()"
   ]
  },
  {
   "cell_type": "markdown",
   "id": "141fc013",
   "metadata": {},
   "source": [
    "<strong>Define</strong>"
   ]
  },
  {
   "cell_type": "markdown",
   "id": "d4461b41",
   "metadata": {},
   "source": [
    "Combine doggo,floofer,pupper, and puppo columns into single column."
   ]
  },
  {
   "cell_type": "markdown",
   "id": "b8af003a",
   "metadata": {},
   "source": [
    "<strong>Code</strong>"
   ]
  },
  {
   "cell_type": "code",
   "execution_count": 44,
   "id": "300a485b",
   "metadata": {},
   "outputs": [
    {
     "name": "stdout",
     "output_type": "stream",
     "text": [
      "<class 'pandas.core.frame.DataFrame'>\n",
      "RangeIndex: 2356 entries, 0 to 2355\n",
      "Data columns (total 14 columns):\n",
      " #   Column              Non-Null Count  Dtype              \n",
      "---  ------              --------------  -----              \n",
      " 0   tweet_id            2356 non-null   object             \n",
      " 1   timestamp           2356 non-null   datetime64[ns, UTC]\n",
      " 2   source              2356 non-null   object             \n",
      " 3   text                2356 non-null   string             \n",
      " 4   expanded_urls       2297 non-null   string             \n",
      " 5   rating_numerator    2356 non-null   int16              \n",
      " 6   rating_denominator  2356 non-null   int16              \n",
      " 7   name                1611 non-null   string             \n",
      " 8   doggo               97 non-null     category           \n",
      " 9   floofer             10 non-null     category           \n",
      " 10  pupper              257 non-null    category           \n",
      " 11  puppo               30 non-null     category           \n",
      " 12  date                2356 non-null   object             \n",
      " 13  time                2356 non-null   object             \n",
      "dtypes: category(4), datetime64[ns, UTC](1), int16(2), object(4), string(3)\n",
      "memory usage: 166.2+ KB\n"
     ]
    },
    {
     "data": {
      "text/html": [
       "<div>\n",
       "<style scoped>\n",
       "    .dataframe tbody tr th:only-of-type {\n",
       "        vertical-align: middle;\n",
       "    }\n",
       "\n",
       "    .dataframe tbody tr th {\n",
       "        vertical-align: top;\n",
       "    }\n",
       "\n",
       "    .dataframe thead th {\n",
       "        text-align: right;\n",
       "    }\n",
       "</style>\n",
       "<table border=\"1\" class=\"dataframe\">\n",
       "  <thead>\n",
       "    <tr style=\"text-align: right;\">\n",
       "      <th></th>\n",
       "      <th>tweet_id</th>\n",
       "      <th>timestamp</th>\n",
       "      <th>source</th>\n",
       "      <th>text</th>\n",
       "      <th>expanded_urls</th>\n",
       "      <th>rating_numerator</th>\n",
       "      <th>rating_denominator</th>\n",
       "      <th>name</th>\n",
       "      <th>doggo</th>\n",
       "      <th>floofer</th>\n",
       "      <th>pupper</th>\n",
       "      <th>puppo</th>\n",
       "      <th>date</th>\n",
       "      <th>time</th>\n",
       "    </tr>\n",
       "  </thead>\n",
       "  <tbody>\n",
       "    <tr>\n",
       "      <th>0</th>\n",
       "      <td>892420643555336193</td>\n",
       "      <td>2017-08-01 16:23:56+00:00</td>\n",
       "      <td>iPhone</td>\n",
       "      <td>This is Phineas. He's a mystical boy. Only eve...</td>\n",
       "      <td>https://twitter.com/dog_rates/status/892420643...</td>\n",
       "      <td>13</td>\n",
       "      <td>10</td>\n",
       "      <td>Phineas</td>\n",
       "      <td>NaN</td>\n",
       "      <td>NaN</td>\n",
       "      <td>NaN</td>\n",
       "      <td>NaN</td>\n",
       "      <td>2017-08-01</td>\n",
       "      <td>16:23:56</td>\n",
       "    </tr>\n",
       "    <tr>\n",
       "      <th>1</th>\n",
       "      <td>892177421306343426</td>\n",
       "      <td>2017-08-01 00:17:27+00:00</td>\n",
       "      <td>iPhone</td>\n",
       "      <td>This is Tilly. She's just checking pup on you....</td>\n",
       "      <td>https://twitter.com/dog_rates/status/892177421...</td>\n",
       "      <td>13</td>\n",
       "      <td>10</td>\n",
       "      <td>Tilly</td>\n",
       "      <td>NaN</td>\n",
       "      <td>NaN</td>\n",
       "      <td>NaN</td>\n",
       "      <td>NaN</td>\n",
       "      <td>2017-08-01</td>\n",
       "      <td>00:17:27</td>\n",
       "    </tr>\n",
       "    <tr>\n",
       "      <th>2</th>\n",
       "      <td>891815181378084864</td>\n",
       "      <td>2017-07-31 00:18:03+00:00</td>\n",
       "      <td>iPhone</td>\n",
       "      <td>This is Archie. He is a rare Norwegian Pouncin...</td>\n",
       "      <td>https://twitter.com/dog_rates/status/891815181...</td>\n",
       "      <td>12</td>\n",
       "      <td>10</td>\n",
       "      <td>Archie</td>\n",
       "      <td>NaN</td>\n",
       "      <td>NaN</td>\n",
       "      <td>NaN</td>\n",
       "      <td>NaN</td>\n",
       "      <td>2017-07-31</td>\n",
       "      <td>00:18:03</td>\n",
       "    </tr>\n",
       "    <tr>\n",
       "      <th>3</th>\n",
       "      <td>891689557279858688</td>\n",
       "      <td>2017-07-30 15:58:51+00:00</td>\n",
       "      <td>iPhone</td>\n",
       "      <td>This is Darla. She commenced a snooze mid meal...</td>\n",
       "      <td>https://twitter.com/dog_rates/status/891689557...</td>\n",
       "      <td>13</td>\n",
       "      <td>10</td>\n",
       "      <td>Darla</td>\n",
       "      <td>NaN</td>\n",
       "      <td>NaN</td>\n",
       "      <td>NaN</td>\n",
       "      <td>NaN</td>\n",
       "      <td>2017-07-30</td>\n",
       "      <td>15:58:51</td>\n",
       "    </tr>\n",
       "    <tr>\n",
       "      <th>4</th>\n",
       "      <td>891327558926688256</td>\n",
       "      <td>2017-07-29 16:00:24+00:00</td>\n",
       "      <td>iPhone</td>\n",
       "      <td>This is Franklin. He would like you to stop ca...</td>\n",
       "      <td>https://twitter.com/dog_rates/status/891327558...</td>\n",
       "      <td>12</td>\n",
       "      <td>10</td>\n",
       "      <td>Franklin</td>\n",
       "      <td>NaN</td>\n",
       "      <td>NaN</td>\n",
       "      <td>NaN</td>\n",
       "      <td>NaN</td>\n",
       "      <td>2017-07-29</td>\n",
       "      <td>16:00:24</td>\n",
       "    </tr>\n",
       "  </tbody>\n",
       "</table>\n",
       "</div>"
      ],
      "text/plain": [
       "             tweet_id                 timestamp  source  \\\n",
       "0  892420643555336193 2017-08-01 16:23:56+00:00  iPhone   \n",
       "1  892177421306343426 2017-08-01 00:17:27+00:00  iPhone   \n",
       "2  891815181378084864 2017-07-31 00:18:03+00:00  iPhone   \n",
       "3  891689557279858688 2017-07-30 15:58:51+00:00  iPhone   \n",
       "4  891327558926688256 2017-07-29 16:00:24+00:00  iPhone   \n",
       "\n",
       "                                                text  \\\n",
       "0  This is Phineas. He's a mystical boy. Only eve...   \n",
       "1  This is Tilly. She's just checking pup on you....   \n",
       "2  This is Archie. He is a rare Norwegian Pouncin...   \n",
       "3  This is Darla. She commenced a snooze mid meal...   \n",
       "4  This is Franklin. He would like you to stop ca...   \n",
       "\n",
       "                                       expanded_urls  rating_numerator  \\\n",
       "0  https://twitter.com/dog_rates/status/892420643...                13   \n",
       "1  https://twitter.com/dog_rates/status/892177421...                13   \n",
       "2  https://twitter.com/dog_rates/status/891815181...                12   \n",
       "3  https://twitter.com/dog_rates/status/891689557...                13   \n",
       "4  https://twitter.com/dog_rates/status/891327558...                12   \n",
       "\n",
       "   rating_denominator      name doggo floofer pupper puppo        date  \\\n",
       "0                  10   Phineas   NaN     NaN    NaN   NaN  2017-08-01   \n",
       "1                  10     Tilly   NaN     NaN    NaN   NaN  2017-08-01   \n",
       "2                  10    Archie   NaN     NaN    NaN   NaN  2017-07-31   \n",
       "3                  10     Darla   NaN     NaN    NaN   NaN  2017-07-30   \n",
       "4                  10  Franklin   NaN     NaN    NaN   NaN  2017-07-29   \n",
       "\n",
       "       time  \n",
       "0  16:23:56  \n",
       "1  00:17:27  \n",
       "2  00:18:03  \n",
       "3  15:58:51  \n",
       "4  16:00:24  "
      ]
     },
     "execution_count": 44,
     "metadata": {},
     "output_type": "execute_result"
    }
   ],
   "source": [
    "df_archive_cleaned.replace('None', np.nan, inplace=True)\n",
    "df_archive_cleaned.info()\n",
    "df_archive_cleaned.head()"
   ]
  },
  {
   "cell_type": "markdown",
   "id": "3975f15c",
   "metadata": {},
   "source": [
    "<strong>Define</strong>"
   ]
  },
  {
   "cell_type": "code",
   "execution_count": 45,
   "id": "a2abf011",
   "metadata": {},
   "outputs": [],
   "source": [
    "df_archive_cleaned['dog_type']= df_archive_cleaned[['doggo','floofer','pupper','puppo']].apply(lambda x: ','.join(x.dropna().astype(str)), axis=1)"
   ]
  },
  {
   "cell_type": "markdown",
   "id": "66ad1ac3",
   "metadata": {},
   "source": [
    "<strong>Test</strong>"
   ]
  },
  {
   "cell_type": "code",
   "execution_count": 46,
   "id": "a640ead3",
   "metadata": {},
   "outputs": [
    {
     "data": {
      "text/plain": [
       "                 1976\n",
       "pupper            245\n",
       "doggo              83\n",
       "puppo              29\n",
       "doggo,pupper       12\n",
       "floofer             9\n",
       "doggo,puppo         1\n",
       "doggo,floofer       1\n",
       "Name: dog_type, dtype: int64"
      ]
     },
     "execution_count": 46,
     "metadata": {},
     "output_type": "execute_result"
    }
   ],
   "source": [
    "df_archive_cleaned.dog_type.value_counts()"
   ]
  },
  {
   "cell_type": "code",
   "execution_count": 47,
   "id": "dad48523",
   "metadata": {},
   "outputs": [
    {
     "data": {
      "text/html": [
       "<div>\n",
       "<style scoped>\n",
       "    .dataframe tbody tr th:only-of-type {\n",
       "        vertical-align: middle;\n",
       "    }\n",
       "\n",
       "    .dataframe tbody tr th {\n",
       "        vertical-align: top;\n",
       "    }\n",
       "\n",
       "    .dataframe thead th {\n",
       "        text-align: right;\n",
       "    }\n",
       "</style>\n",
       "<table border=\"1\" class=\"dataframe\">\n",
       "  <thead>\n",
       "    <tr style=\"text-align: right;\">\n",
       "      <th></th>\n",
       "      <th>tweet_id</th>\n",
       "      <th>timestamp</th>\n",
       "      <th>source</th>\n",
       "      <th>text</th>\n",
       "      <th>expanded_urls</th>\n",
       "      <th>rating_numerator</th>\n",
       "      <th>rating_denominator</th>\n",
       "      <th>name</th>\n",
       "      <th>doggo</th>\n",
       "      <th>floofer</th>\n",
       "      <th>pupper</th>\n",
       "      <th>puppo</th>\n",
       "      <th>date</th>\n",
       "      <th>time</th>\n",
       "      <th>dog_type</th>\n",
       "    </tr>\n",
       "  </thead>\n",
       "  <tbody>\n",
       "    <tr>\n",
       "      <th>0</th>\n",
       "      <td>892420643555336193</td>\n",
       "      <td>2017-08-01 16:23:56+00:00</td>\n",
       "      <td>iPhone</td>\n",
       "      <td>This is Phineas. He's a mystical boy. Only eve...</td>\n",
       "      <td>https://twitter.com/dog_rates/status/892420643...</td>\n",
       "      <td>13</td>\n",
       "      <td>10</td>\n",
       "      <td>Phineas</td>\n",
       "      <td>NaN</td>\n",
       "      <td>NaN</td>\n",
       "      <td>NaN</td>\n",
       "      <td>NaN</td>\n",
       "      <td>2017-08-01</td>\n",
       "      <td>16:23:56</td>\n",
       "      <td>NaN</td>\n",
       "    </tr>\n",
       "    <tr>\n",
       "      <th>1</th>\n",
       "      <td>892177421306343426</td>\n",
       "      <td>2017-08-01 00:17:27+00:00</td>\n",
       "      <td>iPhone</td>\n",
       "      <td>This is Tilly. She's just checking pup on you....</td>\n",
       "      <td>https://twitter.com/dog_rates/status/892177421...</td>\n",
       "      <td>13</td>\n",
       "      <td>10</td>\n",
       "      <td>Tilly</td>\n",
       "      <td>NaN</td>\n",
       "      <td>NaN</td>\n",
       "      <td>NaN</td>\n",
       "      <td>NaN</td>\n",
       "      <td>2017-08-01</td>\n",
       "      <td>00:17:27</td>\n",
       "      <td>NaN</td>\n",
       "    </tr>\n",
       "    <tr>\n",
       "      <th>2</th>\n",
       "      <td>891815181378084864</td>\n",
       "      <td>2017-07-31 00:18:03+00:00</td>\n",
       "      <td>iPhone</td>\n",
       "      <td>This is Archie. He is a rare Norwegian Pouncin...</td>\n",
       "      <td>https://twitter.com/dog_rates/status/891815181...</td>\n",
       "      <td>12</td>\n",
       "      <td>10</td>\n",
       "      <td>Archie</td>\n",
       "      <td>NaN</td>\n",
       "      <td>NaN</td>\n",
       "      <td>NaN</td>\n",
       "      <td>NaN</td>\n",
       "      <td>2017-07-31</td>\n",
       "      <td>00:18:03</td>\n",
       "      <td>NaN</td>\n",
       "    </tr>\n",
       "    <tr>\n",
       "      <th>3</th>\n",
       "      <td>891689557279858688</td>\n",
       "      <td>2017-07-30 15:58:51+00:00</td>\n",
       "      <td>iPhone</td>\n",
       "      <td>This is Darla. She commenced a snooze mid meal...</td>\n",
       "      <td>https://twitter.com/dog_rates/status/891689557...</td>\n",
       "      <td>13</td>\n",
       "      <td>10</td>\n",
       "      <td>Darla</td>\n",
       "      <td>NaN</td>\n",
       "      <td>NaN</td>\n",
       "      <td>NaN</td>\n",
       "      <td>NaN</td>\n",
       "      <td>2017-07-30</td>\n",
       "      <td>15:58:51</td>\n",
       "      <td>NaN</td>\n",
       "    </tr>\n",
       "    <tr>\n",
       "      <th>4</th>\n",
       "      <td>891327558926688256</td>\n",
       "      <td>2017-07-29 16:00:24+00:00</td>\n",
       "      <td>iPhone</td>\n",
       "      <td>This is Franklin. He would like you to stop ca...</td>\n",
       "      <td>https://twitter.com/dog_rates/status/891327558...</td>\n",
       "      <td>12</td>\n",
       "      <td>10</td>\n",
       "      <td>Franklin</td>\n",
       "      <td>NaN</td>\n",
       "      <td>NaN</td>\n",
       "      <td>NaN</td>\n",
       "      <td>NaN</td>\n",
       "      <td>2017-07-29</td>\n",
       "      <td>16:00:24</td>\n",
       "      <td>NaN</td>\n",
       "    </tr>\n",
       "  </tbody>\n",
       "</table>\n",
       "</div>"
      ],
      "text/plain": [
       "             tweet_id                 timestamp  source  \\\n",
       "0  892420643555336193 2017-08-01 16:23:56+00:00  iPhone   \n",
       "1  892177421306343426 2017-08-01 00:17:27+00:00  iPhone   \n",
       "2  891815181378084864 2017-07-31 00:18:03+00:00  iPhone   \n",
       "3  891689557279858688 2017-07-30 15:58:51+00:00  iPhone   \n",
       "4  891327558926688256 2017-07-29 16:00:24+00:00  iPhone   \n",
       "\n",
       "                                                text  \\\n",
       "0  This is Phineas. He's a mystical boy. Only eve...   \n",
       "1  This is Tilly. She's just checking pup on you....   \n",
       "2  This is Archie. He is a rare Norwegian Pouncin...   \n",
       "3  This is Darla. She commenced a snooze mid meal...   \n",
       "4  This is Franklin. He would like you to stop ca...   \n",
       "\n",
       "                                       expanded_urls  rating_numerator  \\\n",
       "0  https://twitter.com/dog_rates/status/892420643...                13   \n",
       "1  https://twitter.com/dog_rates/status/892177421...                13   \n",
       "2  https://twitter.com/dog_rates/status/891815181...                12   \n",
       "3  https://twitter.com/dog_rates/status/891689557...                13   \n",
       "4  https://twitter.com/dog_rates/status/891327558...                12   \n",
       "\n",
       "   rating_denominator      name doggo floofer pupper puppo        date  \\\n",
       "0                  10   Phineas   NaN     NaN    NaN   NaN  2017-08-01   \n",
       "1                  10     Tilly   NaN     NaN    NaN   NaN  2017-08-01   \n",
       "2                  10    Archie   NaN     NaN    NaN   NaN  2017-07-31   \n",
       "3                  10     Darla   NaN     NaN    NaN   NaN  2017-07-30   \n",
       "4                  10  Franklin   NaN     NaN    NaN   NaN  2017-07-29   \n",
       "\n",
       "       time dog_type  \n",
       "0  16:23:56      NaN  \n",
       "1  00:17:27      NaN  \n",
       "2  00:18:03      NaN  \n",
       "3  15:58:51      NaN  \n",
       "4  16:00:24      NaN  "
      ]
     },
     "execution_count": 47,
     "metadata": {},
     "output_type": "execute_result"
    }
   ],
   "source": [
    "df_archive_cleaned.replace('',np.nan, inplace=True)\n",
    "df_archive_cleaned.head()"
   ]
  },
  {
   "cell_type": "code",
   "execution_count": 48,
   "id": "c1ef4484",
   "metadata": {},
   "outputs": [
    {
     "data": {
      "text/plain": [
       "pupper           245\n",
       "doggo             83\n",
       "puppo             29\n",
       "doggo,pupper      12\n",
       "floofer            9\n",
       "doggo,puppo        1\n",
       "doggo,floofer      1\n",
       "Name: dog_type, dtype: int64"
      ]
     },
     "execution_count": 48,
     "metadata": {},
     "output_type": "execute_result"
    }
   ],
   "source": [
    "df_archive_cleaned.dog_type.value_counts()"
   ]
  },
  {
   "cell_type": "markdown",
   "id": "ae0e443f",
   "metadata": {},
   "source": [
    "<strong>Define</strong>"
   ]
  },
  {
   "cell_type": "markdown",
   "id": "1cb4d3fb",
   "metadata": {},
   "source": [
    "Create new column for rating"
   ]
  },
  {
   "cell_type": "markdown",
   "id": "a7a91f93",
   "metadata": {},
   "source": [
    "<strong>Code</strong>"
   ]
  },
  {
   "cell_type": "code",
   "execution_count": 49,
   "id": "b137e399",
   "metadata": {},
   "outputs": [],
   "source": [
    "df_archive_cleaned['rating']=(df_archive_cleaned['rating_numerator']/df_archive_cleaned['rating_denominator']).fillna(0).replace({np.inf:0})"
   ]
  },
  {
   "cell_type": "markdown",
   "id": "f92bb68c",
   "metadata": {},
   "source": [
    "<strong>Test</strong>"
   ]
  },
  {
   "cell_type": "code",
   "execution_count": 50,
   "id": "b81b923a",
   "metadata": {},
   "outputs": [
    {
     "data": {
      "text/html": [
       "<div>\n",
       "<style scoped>\n",
       "    .dataframe tbody tr th:only-of-type {\n",
       "        vertical-align: middle;\n",
       "    }\n",
       "\n",
       "    .dataframe tbody tr th {\n",
       "        vertical-align: top;\n",
       "    }\n",
       "\n",
       "    .dataframe thead th {\n",
       "        text-align: right;\n",
       "    }\n",
       "</style>\n",
       "<table border=\"1\" class=\"dataframe\">\n",
       "  <thead>\n",
       "    <tr style=\"text-align: right;\">\n",
       "      <th></th>\n",
       "      <th>tweet_id</th>\n",
       "      <th>timestamp</th>\n",
       "      <th>source</th>\n",
       "      <th>text</th>\n",
       "      <th>expanded_urls</th>\n",
       "      <th>rating_numerator</th>\n",
       "      <th>rating_denominator</th>\n",
       "      <th>name</th>\n",
       "      <th>doggo</th>\n",
       "      <th>floofer</th>\n",
       "      <th>pupper</th>\n",
       "      <th>puppo</th>\n",
       "      <th>date</th>\n",
       "      <th>time</th>\n",
       "      <th>dog_type</th>\n",
       "      <th>rating</th>\n",
       "    </tr>\n",
       "  </thead>\n",
       "  <tbody>\n",
       "    <tr>\n",
       "      <th>0</th>\n",
       "      <td>892420643555336193</td>\n",
       "      <td>2017-08-01 16:23:56+00:00</td>\n",
       "      <td>iPhone</td>\n",
       "      <td>This is Phineas. He's a mystical boy. Only eve...</td>\n",
       "      <td>https://twitter.com/dog_rates/status/892420643...</td>\n",
       "      <td>13</td>\n",
       "      <td>10</td>\n",
       "      <td>Phineas</td>\n",
       "      <td>NaN</td>\n",
       "      <td>NaN</td>\n",
       "      <td>NaN</td>\n",
       "      <td>NaN</td>\n",
       "      <td>2017-08-01</td>\n",
       "      <td>16:23:56</td>\n",
       "      <td>NaN</td>\n",
       "      <td>1.3</td>\n",
       "    </tr>\n",
       "    <tr>\n",
       "      <th>1</th>\n",
       "      <td>892177421306343426</td>\n",
       "      <td>2017-08-01 00:17:27+00:00</td>\n",
       "      <td>iPhone</td>\n",
       "      <td>This is Tilly. She's just checking pup on you....</td>\n",
       "      <td>https://twitter.com/dog_rates/status/892177421...</td>\n",
       "      <td>13</td>\n",
       "      <td>10</td>\n",
       "      <td>Tilly</td>\n",
       "      <td>NaN</td>\n",
       "      <td>NaN</td>\n",
       "      <td>NaN</td>\n",
       "      <td>NaN</td>\n",
       "      <td>2017-08-01</td>\n",
       "      <td>00:17:27</td>\n",
       "      <td>NaN</td>\n",
       "      <td>1.3</td>\n",
       "    </tr>\n",
       "    <tr>\n",
       "      <th>2</th>\n",
       "      <td>891815181378084864</td>\n",
       "      <td>2017-07-31 00:18:03+00:00</td>\n",
       "      <td>iPhone</td>\n",
       "      <td>This is Archie. He is a rare Norwegian Pouncin...</td>\n",
       "      <td>https://twitter.com/dog_rates/status/891815181...</td>\n",
       "      <td>12</td>\n",
       "      <td>10</td>\n",
       "      <td>Archie</td>\n",
       "      <td>NaN</td>\n",
       "      <td>NaN</td>\n",
       "      <td>NaN</td>\n",
       "      <td>NaN</td>\n",
       "      <td>2017-07-31</td>\n",
       "      <td>00:18:03</td>\n",
       "      <td>NaN</td>\n",
       "      <td>1.2</td>\n",
       "    </tr>\n",
       "    <tr>\n",
       "      <th>3</th>\n",
       "      <td>891689557279858688</td>\n",
       "      <td>2017-07-30 15:58:51+00:00</td>\n",
       "      <td>iPhone</td>\n",
       "      <td>This is Darla. She commenced a snooze mid meal...</td>\n",
       "      <td>https://twitter.com/dog_rates/status/891689557...</td>\n",
       "      <td>13</td>\n",
       "      <td>10</td>\n",
       "      <td>Darla</td>\n",
       "      <td>NaN</td>\n",
       "      <td>NaN</td>\n",
       "      <td>NaN</td>\n",
       "      <td>NaN</td>\n",
       "      <td>2017-07-30</td>\n",
       "      <td>15:58:51</td>\n",
       "      <td>NaN</td>\n",
       "      <td>1.3</td>\n",
       "    </tr>\n",
       "    <tr>\n",
       "      <th>4</th>\n",
       "      <td>891327558926688256</td>\n",
       "      <td>2017-07-29 16:00:24+00:00</td>\n",
       "      <td>iPhone</td>\n",
       "      <td>This is Franklin. He would like you to stop ca...</td>\n",
       "      <td>https://twitter.com/dog_rates/status/891327558...</td>\n",
       "      <td>12</td>\n",
       "      <td>10</td>\n",
       "      <td>Franklin</td>\n",
       "      <td>NaN</td>\n",
       "      <td>NaN</td>\n",
       "      <td>NaN</td>\n",
       "      <td>NaN</td>\n",
       "      <td>2017-07-29</td>\n",
       "      <td>16:00:24</td>\n",
       "      <td>NaN</td>\n",
       "      <td>1.2</td>\n",
       "    </tr>\n",
       "  </tbody>\n",
       "</table>\n",
       "</div>"
      ],
      "text/plain": [
       "             tweet_id                 timestamp  source  \\\n",
       "0  892420643555336193 2017-08-01 16:23:56+00:00  iPhone   \n",
       "1  892177421306343426 2017-08-01 00:17:27+00:00  iPhone   \n",
       "2  891815181378084864 2017-07-31 00:18:03+00:00  iPhone   \n",
       "3  891689557279858688 2017-07-30 15:58:51+00:00  iPhone   \n",
       "4  891327558926688256 2017-07-29 16:00:24+00:00  iPhone   \n",
       "\n",
       "                                                text  \\\n",
       "0  This is Phineas. He's a mystical boy. Only eve...   \n",
       "1  This is Tilly. She's just checking pup on you....   \n",
       "2  This is Archie. He is a rare Norwegian Pouncin...   \n",
       "3  This is Darla. She commenced a snooze mid meal...   \n",
       "4  This is Franklin. He would like you to stop ca...   \n",
       "\n",
       "                                       expanded_urls  rating_numerator  \\\n",
       "0  https://twitter.com/dog_rates/status/892420643...                13   \n",
       "1  https://twitter.com/dog_rates/status/892177421...                13   \n",
       "2  https://twitter.com/dog_rates/status/891815181...                12   \n",
       "3  https://twitter.com/dog_rates/status/891689557...                13   \n",
       "4  https://twitter.com/dog_rates/status/891327558...                12   \n",
       "\n",
       "   rating_denominator      name doggo floofer pupper puppo        date  \\\n",
       "0                  10   Phineas   NaN     NaN    NaN   NaN  2017-08-01   \n",
       "1                  10     Tilly   NaN     NaN    NaN   NaN  2017-08-01   \n",
       "2                  10    Archie   NaN     NaN    NaN   NaN  2017-07-31   \n",
       "3                  10     Darla   NaN     NaN    NaN   NaN  2017-07-30   \n",
       "4                  10  Franklin   NaN     NaN    NaN   NaN  2017-07-29   \n",
       "\n",
       "       time dog_type  rating  \n",
       "0  16:23:56      NaN     1.3  \n",
       "1  00:17:27      NaN     1.3  \n",
       "2  00:18:03      NaN     1.2  \n",
       "3  15:58:51      NaN     1.3  \n",
       "4  16:00:24      NaN     1.2  "
      ]
     },
     "execution_count": 50,
     "metadata": {},
     "output_type": "execute_result"
    }
   ],
   "source": [
    "df_archive_cleaned.head()"
   ]
  },
  {
   "cell_type": "code",
   "execution_count": 51,
   "id": "a3ed7391",
   "metadata": {},
   "outputs": [
    {
     "data": {
      "text/plain": [
       "1.200000      562\n",
       "1.100000      469\n",
       "1.000000      463\n",
       "1.300000      351\n",
       "0.900000      157\n",
       "0.800000      102\n",
       "1.400000       54\n",
       "0.700000       54\n",
       "0.500000       38\n",
       "0.600000       32\n",
       "0.300000       19\n",
       "0.400000       15\n",
       "0.200000       11\n",
       "0.100000        8\n",
       "0.000000        3\n",
       "0.818182        2\n",
       "7.500000        2\n",
       "1.500000        2\n",
       "42.000000       2\n",
       "0.636364        1\n",
       "177.600000      1\n",
       "1.250000        1\n",
       "0.733333        1\n",
       "2.700000        1\n",
       "3.428571        1\n",
       "18.200000       1\n",
       "66.600000       1\n",
       "1.700000        1\n",
       "2.600000        1\n",
       "Name: rating, dtype: int64"
      ]
     },
     "execution_count": 51,
     "metadata": {},
     "output_type": "execute_result"
    }
   ],
   "source": [
    "df_archive_cleaned.rating.value_counts()"
   ]
  },
  {
   "cell_type": "markdown",
   "id": "dd158d9b",
   "metadata": {},
   "source": [
    "<strong>Define</strong>"
   ]
  },
  {
   "cell_type": "code",
   "execution_count": 54,
   "id": "24c6390a",
   "metadata": {},
   "outputs": [],
   "source": [
    "# df_archive_cleaned.drop(df_archive_cleaned[(df_archive_cleaned['rating']>177.6) | (df_archive_cleaned['rating']==66.6)| (df_archive_cleaned['rating'] ==42.000000) | (df_archive_cleaned['rating']==18.2) | (df_archive_cleaned['rating'] ==7.5)].index,axis=0, inplace=True)"
   ]
  },
  {
   "cell_type": "code",
   "execution_count": 55,
   "id": "ab6f57b4",
   "metadata": {},
   "outputs": [],
   "source": [
    " #df_archive_cleaned.drop(df_archive_cleaned[(df_archive_cleaned['rating']177.6) | (df_archive_cleaned['rating']==66.6)| (df_archive_cleaned['rating'] ==42.000000) | (df_archive_cleaned['rating']==18.2) | (df_archive_cleaned['rating'] ==7.5)].index,axis=0, inplace=True)"
   ]
  },
  {
   "cell_type": "code",
   "execution_count": 56,
   "id": "eddb95d0",
   "metadata": {},
   "outputs": [
    {
     "data": {
      "text/plain": [
       "1.200000      562\n",
       "1.100000      469\n",
       "1.000000      463\n",
       "1.300000      351\n",
       "0.900000      157\n",
       "0.800000      102\n",
       "1.400000       54\n",
       "0.700000       54\n",
       "0.500000       38\n",
       "0.600000       32\n",
       "0.300000       19\n",
       "0.400000       15\n",
       "0.200000       11\n",
       "0.100000        8\n",
       "0.000000        3\n",
       "0.818182        2\n",
       "7.500000        2\n",
       "1.500000        2\n",
       "42.000000       2\n",
       "0.636364        1\n",
       "177.600000      1\n",
       "1.250000        1\n",
       "0.733333        1\n",
       "2.700000        1\n",
       "3.428571        1\n",
       "18.200000       1\n",
       "66.600000       1\n",
       "1.700000        1\n",
       "2.600000        1\n",
       "Name: rating, dtype: int64"
      ]
     },
     "execution_count": 56,
     "metadata": {},
     "output_type": "execute_result"
    }
   ],
   "source": [
    " df_archive_cleaned.rating.value_counts()"
   ]
  },
  {
   "cell_type": "code",
   "execution_count": 59,
   "id": "fde46c9e",
   "metadata": {},
   "outputs": [],
   "source": [
    "df_archive_cleaned['dog_type'] = pd.Categorical(df_archive_cleaned['dog_type'])\n",
    "# timefmt = \"%Y-%m-%d\" \n",
    "# df_archive_cleaned['date'] = pd.to_datetime(df_archive_cleaned['date'],format = timefmt, errors='coerce')\n",
    "# timefmt = \"%H:%M:%S\" \n",
    "# df_archive_cleaned['time'] = pd.to_datetime(df_archive_cleaned['time'],format = timefmt, errors='coerce')\n"
   ]
  },
  {
   "cell_type": "code",
   "execution_count": 60,
   "id": "b6a21a27",
   "metadata": {},
   "outputs": [
    {
     "name": "stdout",
     "output_type": "stream",
     "text": [
      "<class 'pandas.core.frame.DataFrame'>\n",
      "RangeIndex: 2356 entries, 0 to 2355\n",
      "Data columns (total 16 columns):\n",
      " #   Column              Non-Null Count  Dtype              \n",
      "---  ------              --------------  -----              \n",
      " 0   tweet_id            2356 non-null   object             \n",
      " 1   timestamp           2356 non-null   datetime64[ns, UTC]\n",
      " 2   source              2356 non-null   object             \n",
      " 3   text                2356 non-null   string             \n",
      " 4   expanded_urls       2297 non-null   string             \n",
      " 5   rating_numerator    2356 non-null   int16              \n",
      " 6   rating_denominator  2356 non-null   int16              \n",
      " 7   name                1611 non-null   string             \n",
      " 8   doggo               97 non-null     category           \n",
      " 9   floofer             10 non-null     category           \n",
      " 10  pupper              257 non-null    category           \n",
      " 11  puppo               30 non-null     category           \n",
      " 12  date                2356 non-null   object             \n",
      " 13  time                2356 non-null   object             \n",
      " 14  dog_type            380 non-null    category           \n",
      " 15  rating              2356 non-null   float64            \n",
      "dtypes: category(5), datetime64[ns, UTC](1), float64(1), int16(2), object(4), string(3)\n",
      "memory usage: 187.3+ KB\n"
     ]
    }
   ],
   "source": [
    "df_archive_cleaned.info()"
   ]
  },
  {
   "cell_type": "code",
   "execution_count": 61,
   "id": "18af5b1b",
   "metadata": {},
   "outputs": [
    {
     "name": "stdout",
     "output_type": "stream",
     "text": [
      "<class 'pandas.core.frame.DataFrame'>\n",
      "RangeIndex: 2356 entries, 0 to 2355\n",
      "Data columns (total 16 columns):\n",
      " #   Column              Non-Null Count  Dtype              \n",
      "---  ------              --------------  -----              \n",
      " 0   tweet_id            2356 non-null   object             \n",
      " 1   timestamp           2356 non-null   datetime64[ns, UTC]\n",
      " 2   source              2356 non-null   object             \n",
      " 3   text                2356 non-null   string             \n",
      " 4   expanded_urls       2297 non-null   string             \n",
      " 5   rating_numerator    2356 non-null   int16              \n",
      " 6   rating_denominator  2356 non-null   int16              \n",
      " 7   name                1611 non-null   string             \n",
      " 8   doggo               97 non-null     category           \n",
      " 9   floofer             10 non-null     category           \n",
      " 10  pupper              257 non-null    category           \n",
      " 11  puppo               30 non-null     category           \n",
      " 12  date                2356 non-null   object             \n",
      " 13  time                2356 non-null   object             \n",
      " 14  dog_type            380 non-null    category           \n",
      " 15  rating              2356 non-null   float64            \n",
      "dtypes: category(5), datetime64[ns, UTC](1), float64(1), int16(2), object(4), string(3)\n",
      "memory usage: 187.3+ KB\n"
     ]
    }
   ],
   "source": [
    "df_archive_cleaned.info()"
   ]
  },
  {
   "cell_type": "markdown",
   "id": "40569058",
   "metadata": {},
   "source": [
    "<strong>Define</strong>"
   ]
  },
  {
   "cell_type": "markdown",
   "id": "b09e4ae1",
   "metadata": {},
   "source": [
    "Drop useless columns in dataset"
   ]
  },
  {
   "cell_type": "markdown",
   "id": "04e594a7",
   "metadata": {},
   "source": [
    "<strong>Code</strong>"
   ]
  },
  {
   "cell_type": "code",
   "execution_count": 62,
   "id": "eb417709",
   "metadata": {},
   "outputs": [],
   "source": [
    "df_archive_cleaned.drop(columns=['expanded_urls','timestamp','doggo','floofer','pupper','puppo'], axis=1, inplace=True)"
   ]
  },
  {
   "cell_type": "markdown",
   "id": "864b9a5d",
   "metadata": {},
   "source": [
    "<strong>Test</strong>"
   ]
  },
  {
   "cell_type": "code",
   "execution_count": 63,
   "id": "a044e3c4",
   "metadata": {},
   "outputs": [
    {
     "data": {
      "text/html": [
       "<div>\n",
       "<style scoped>\n",
       "    .dataframe tbody tr th:only-of-type {\n",
       "        vertical-align: middle;\n",
       "    }\n",
       "\n",
       "    .dataframe tbody tr th {\n",
       "        vertical-align: top;\n",
       "    }\n",
       "\n",
       "    .dataframe thead th {\n",
       "        text-align: right;\n",
       "    }\n",
       "</style>\n",
       "<table border=\"1\" class=\"dataframe\">\n",
       "  <thead>\n",
       "    <tr style=\"text-align: right;\">\n",
       "      <th></th>\n",
       "      <th>tweet_id</th>\n",
       "      <th>source</th>\n",
       "      <th>text</th>\n",
       "      <th>rating_numerator</th>\n",
       "      <th>rating_denominator</th>\n",
       "      <th>name</th>\n",
       "      <th>date</th>\n",
       "      <th>time</th>\n",
       "      <th>dog_type</th>\n",
       "      <th>rating</th>\n",
       "    </tr>\n",
       "  </thead>\n",
       "  <tbody>\n",
       "    <tr>\n",
       "      <th>0</th>\n",
       "      <td>892420643555336193</td>\n",
       "      <td>iPhone</td>\n",
       "      <td>This is Phineas. He's a mystical boy. Only eve...</td>\n",
       "      <td>13</td>\n",
       "      <td>10</td>\n",
       "      <td>Phineas</td>\n",
       "      <td>2017-08-01</td>\n",
       "      <td>16:23:56</td>\n",
       "      <td>NaN</td>\n",
       "      <td>1.3</td>\n",
       "    </tr>\n",
       "    <tr>\n",
       "      <th>1</th>\n",
       "      <td>892177421306343426</td>\n",
       "      <td>iPhone</td>\n",
       "      <td>This is Tilly. She's just checking pup on you....</td>\n",
       "      <td>13</td>\n",
       "      <td>10</td>\n",
       "      <td>Tilly</td>\n",
       "      <td>2017-08-01</td>\n",
       "      <td>00:17:27</td>\n",
       "      <td>NaN</td>\n",
       "      <td>1.3</td>\n",
       "    </tr>\n",
       "    <tr>\n",
       "      <th>2</th>\n",
       "      <td>891815181378084864</td>\n",
       "      <td>iPhone</td>\n",
       "      <td>This is Archie. He is a rare Norwegian Pouncin...</td>\n",
       "      <td>12</td>\n",
       "      <td>10</td>\n",
       "      <td>Archie</td>\n",
       "      <td>2017-07-31</td>\n",
       "      <td>00:18:03</td>\n",
       "      <td>NaN</td>\n",
       "      <td>1.2</td>\n",
       "    </tr>\n",
       "    <tr>\n",
       "      <th>3</th>\n",
       "      <td>891689557279858688</td>\n",
       "      <td>iPhone</td>\n",
       "      <td>This is Darla. She commenced a snooze mid meal...</td>\n",
       "      <td>13</td>\n",
       "      <td>10</td>\n",
       "      <td>Darla</td>\n",
       "      <td>2017-07-30</td>\n",
       "      <td>15:58:51</td>\n",
       "      <td>NaN</td>\n",
       "      <td>1.3</td>\n",
       "    </tr>\n",
       "    <tr>\n",
       "      <th>4</th>\n",
       "      <td>891327558926688256</td>\n",
       "      <td>iPhone</td>\n",
       "      <td>This is Franklin. He would like you to stop ca...</td>\n",
       "      <td>12</td>\n",
       "      <td>10</td>\n",
       "      <td>Franklin</td>\n",
       "      <td>2017-07-29</td>\n",
       "      <td>16:00:24</td>\n",
       "      <td>NaN</td>\n",
       "      <td>1.2</td>\n",
       "    </tr>\n",
       "  </tbody>\n",
       "</table>\n",
       "</div>"
      ],
      "text/plain": [
       "             tweet_id  source  \\\n",
       "0  892420643555336193  iPhone   \n",
       "1  892177421306343426  iPhone   \n",
       "2  891815181378084864  iPhone   \n",
       "3  891689557279858688  iPhone   \n",
       "4  891327558926688256  iPhone   \n",
       "\n",
       "                                                text  rating_numerator  \\\n",
       "0  This is Phineas. He's a mystical boy. Only eve...                13   \n",
       "1  This is Tilly. She's just checking pup on you....                13   \n",
       "2  This is Archie. He is a rare Norwegian Pouncin...                12   \n",
       "3  This is Darla. She commenced a snooze mid meal...                13   \n",
       "4  This is Franklin. He would like you to stop ca...                12   \n",
       "\n",
       "   rating_denominator      name        date      time dog_type  rating  \n",
       "0                  10   Phineas  2017-08-01  16:23:56      NaN     1.3  \n",
       "1                  10     Tilly  2017-08-01  00:17:27      NaN     1.3  \n",
       "2                  10    Archie  2017-07-31  00:18:03      NaN     1.2  \n",
       "3                  10     Darla  2017-07-30  15:58:51      NaN     1.3  \n",
       "4                  10  Franklin  2017-07-29  16:00:24      NaN     1.2  "
      ]
     },
     "execution_count": 63,
     "metadata": {},
     "output_type": "execute_result"
    }
   ],
   "source": [
    "df_archive_cleaned.head()"
   ]
  },
  {
   "cell_type": "markdown",
   "id": "5111b75a",
   "metadata": {},
   "source": [
    "### Cleaning tweet_json dataset"
   ]
  },
  {
   "cell_type": "markdown",
   "id": "a39c6b79",
   "metadata": {},
   "source": [
    "<strong>Define</strong>"
   ]
  },
  {
   "cell_type": "markdown",
   "id": "3b661270",
   "metadata": {},
   "source": [
    "Rename id column as Tweet_d "
   ]
  },
  {
   "cell_type": "markdown",
   "id": "338a65d3",
   "metadata": {},
   "source": [
    "<strong>Code</strong>"
   ]
  },
  {
   "cell_type": "code",
   "execution_count": 64,
   "id": "6aa55e2a",
   "metadata": {},
   "outputs": [],
   "source": [
    "df_tweet_json_cleaned.rename(columns={'id':'tweet_id'}, inplace=True)"
   ]
  },
  {
   "cell_type": "code",
   "execution_count": null,
   "id": "091f6678",
   "metadata": {},
   "outputs": [],
   "source": []
  },
  {
   "cell_type": "code",
   "execution_count": null,
   "id": "97fbc9ac",
   "metadata": {},
   "outputs": [],
   "source": []
  },
  {
   "cell_type": "markdown",
   "id": "d01922c6",
   "metadata": {},
   "source": [
    "<strong>Define</strong>"
   ]
  },
  {
   "cell_type": "markdown",
   "id": "09c6f485",
   "metadata": {},
   "source": [
    "Drop unwanted columns in tweet_json dataset"
   ]
  },
  {
   "cell_type": "markdown",
   "id": "c7978bbc",
   "metadata": {},
   "source": [
    "Drop duplicate , redundancy and and useless columns in tweet_json dataset"
   ]
  },
  {
   "cell_type": "markdown",
   "id": "892955ab",
   "metadata": {},
   "source": [
    "<strong>Code</strong>"
   ]
  },
  {
   "cell_type": "code",
   "execution_count": 65,
   "id": "36752f42",
   "metadata": {},
   "outputs": [],
   "source": [
    "df_tweet_json_cleaned.drop(columns=['possibly_sensitive','possibly_sensitive_appealable','full_text','created_at'], axis=1, inplace=True)"
   ]
  },
  {
   "cell_type": "markdown",
   "id": "2cb5a9b6",
   "metadata": {},
   "source": [
    "<strong>Test</strong>"
   ]
  },
  {
   "cell_type": "code",
   "execution_count": 66,
   "id": "650396d4",
   "metadata": {},
   "outputs": [
    {
     "data": {
      "text/plain": [
       "Index(['tweet_id', 'id_str', 'truncated', 'display_text_range', 'entities',\n",
       "       'extended_entities', 'source', 'in_reply_to_status_id',\n",
       "       'in_reply_to_status_id_str', 'in_reply_to_user_id',\n",
       "       'in_reply_to_user_id_str', 'in_reply_to_screen_name', 'user', 'geo',\n",
       "       'coordinates', 'place', 'contributors', 'is_quote_status',\n",
       "       'retweet_count', 'favorite_count', 'favorited', 'retweeted', 'lang',\n",
       "       'retweeted_status', 'quoted_status_id', 'quoted_status_id_str',\n",
       "       'quoted_status'],\n",
       "      dtype='object')"
      ]
     },
     "execution_count": 66,
     "metadata": {},
     "output_type": "execute_result"
    }
   ],
   "source": [
    "df_tweet_json_cleaned.columns"
   ]
  },
  {
   "cell_type": "markdown",
   "id": "80e04729",
   "metadata": {},
   "source": [
    "<strong>Define</strong>"
   ]
  },
  {
   "cell_type": "markdown",
   "id": "2a7d409c",
   "metadata": {},
   "source": [
    "Drop all columns in tweetjson dataset thta has 90% and above of missing values"
   ]
  },
  {
   "cell_type": "markdown",
   "id": "0473666f",
   "metadata": {},
   "source": [
    "<strong>Code</strong>"
   ]
  },
  {
   "cell_type": "code",
   "execution_count": 67,
   "id": "a7d44938",
   "metadata": {},
   "outputs": [],
   "source": [
    "df_tweet_json_cleaned.drop(columns=['retweeted_status','quoted_status_id','quoted_status_id_str','quoted_status','geo','coordinates','place','contributors','in_reply_to_user_id_str','in_reply_to_user_id','in_reply_to_screen_name','in_reply_to_status_id','in_reply_to_status_id_str','source','entities','extended_entities','id_str','truncated'], axis=1, inplace=True)"
   ]
  },
  {
   "cell_type": "markdown",
   "id": "fd5776ca",
   "metadata": {},
   "source": [
    "<strong>Test</strong>"
   ]
  },
  {
   "cell_type": "code",
   "execution_count": 68,
   "id": "513d804e",
   "metadata": {},
   "outputs": [
    {
     "name": "stdout",
     "output_type": "stream",
     "text": [
      "<class 'pandas.core.frame.DataFrame'>\n",
      "RangeIndex: 2354 entries, 0 to 2353\n",
      "Data columns (total 9 columns):\n",
      " #   Column              Non-Null Count  Dtype \n",
      "---  ------              --------------  ----- \n",
      " 0   tweet_id            2354 non-null   int64 \n",
      " 1   display_text_range  2354 non-null   object\n",
      " 2   user                2354 non-null   object\n",
      " 3   is_quote_status     2354 non-null   bool  \n",
      " 4   retweet_count       2354 non-null   int64 \n",
      " 5   favorite_count      2354 non-null   int64 \n",
      " 6   favorited           2354 non-null   bool  \n",
      " 7   retweeted           2354 non-null   bool  \n",
      " 8   lang                2354 non-null   object\n",
      "dtypes: bool(3), int64(3), object(3)\n",
      "memory usage: 117.4+ KB\n"
     ]
    }
   ],
   "source": [
    "df_tweet_json_cleaned.info()"
   ]
  },
  {
   "cell_type": "markdown",
   "id": "b5293d22",
   "metadata": {},
   "source": [
    "<strong>Define</strong>"
   ]
  },
  {
   "cell_type": "markdown",
   "id": "b4405177",
   "metadata": {},
   "source": [
    "Change the tweet_id column datatype."
   ]
  },
  {
   "cell_type": "markdown",
   "id": "c600f402",
   "metadata": {},
   "source": [
    "<strong>Code</strong>"
   ]
  },
  {
   "cell_type": "code",
   "execution_count": 69,
   "id": "585006b6",
   "metadata": {},
   "outputs": [],
   "source": [
    "df_tweet_json_cleaned['tweet_id']=df_tweet_json_cleaned['tweet_id'].astype(str)"
   ]
  },
  {
   "cell_type": "markdown",
   "id": "8ef368f0",
   "metadata": {},
   "source": [
    "<strong>Test</strong>"
   ]
  },
  {
   "cell_type": "code",
   "execution_count": 70,
   "id": "e8547866",
   "metadata": {},
   "outputs": [
    {
     "name": "stdout",
     "output_type": "stream",
     "text": [
      "<class 'pandas.core.frame.DataFrame'>\n",
      "RangeIndex: 2354 entries, 0 to 2353\n",
      "Data columns (total 9 columns):\n",
      " #   Column              Non-Null Count  Dtype \n",
      "---  ------              --------------  ----- \n",
      " 0   tweet_id            2354 non-null   object\n",
      " 1   display_text_range  2354 non-null   object\n",
      " 2   user                2354 non-null   object\n",
      " 3   is_quote_status     2354 non-null   bool  \n",
      " 4   retweet_count       2354 non-null   int64 \n",
      " 5   favorite_count      2354 non-null   int64 \n",
      " 6   favorited           2354 non-null   bool  \n",
      " 7   retweeted           2354 non-null   bool  \n",
      " 8   lang                2354 non-null   object\n",
      "dtypes: bool(3), int64(2), object(4)\n",
      "memory usage: 117.4+ KB\n"
     ]
    }
   ],
   "source": [
    "df_tweet_json_cleaned.info()"
   ]
  },
  {
   "cell_type": "code",
   "execution_count": 71,
   "id": "536b0000",
   "metadata": {},
   "outputs": [
    {
     "data": {
      "text/html": [
       "<div>\n",
       "<style scoped>\n",
       "    .dataframe tbody tr th:only-of-type {\n",
       "        vertical-align: middle;\n",
       "    }\n",
       "\n",
       "    .dataframe tbody tr th {\n",
       "        vertical-align: top;\n",
       "    }\n",
       "\n",
       "    .dataframe thead th {\n",
       "        text-align: right;\n",
       "    }\n",
       "</style>\n",
       "<table border=\"1\" class=\"dataframe\">\n",
       "  <thead>\n",
       "    <tr style=\"text-align: right;\">\n",
       "      <th></th>\n",
       "      <th>tweet_id</th>\n",
       "      <th>display_text_range</th>\n",
       "      <th>user</th>\n",
       "      <th>is_quote_status</th>\n",
       "      <th>retweet_count</th>\n",
       "      <th>favorite_count</th>\n",
       "      <th>favorited</th>\n",
       "      <th>retweeted</th>\n",
       "      <th>lang</th>\n",
       "    </tr>\n",
       "  </thead>\n",
       "  <tbody>\n",
       "    <tr>\n",
       "      <th>0</th>\n",
       "      <td>892420643555336193</td>\n",
       "      <td>[0, 85]</td>\n",
       "      <td>{'id': 4196983835, 'id_str': '4196983835', 'na...</td>\n",
       "      <td>False</td>\n",
       "      <td>8853</td>\n",
       "      <td>39467</td>\n",
       "      <td>False</td>\n",
       "      <td>False</td>\n",
       "      <td>en</td>\n",
       "    </tr>\n",
       "    <tr>\n",
       "      <th>1</th>\n",
       "      <td>892177421306343426</td>\n",
       "      <td>[0, 138]</td>\n",
       "      <td>{'id': 4196983835, 'id_str': '4196983835', 'na...</td>\n",
       "      <td>False</td>\n",
       "      <td>6514</td>\n",
       "      <td>33819</td>\n",
       "      <td>False</td>\n",
       "      <td>False</td>\n",
       "      <td>en</td>\n",
       "    </tr>\n",
       "    <tr>\n",
       "      <th>2</th>\n",
       "      <td>891815181378084864</td>\n",
       "      <td>[0, 121]</td>\n",
       "      <td>{'id': 4196983835, 'id_str': '4196983835', 'na...</td>\n",
       "      <td>False</td>\n",
       "      <td>4328</td>\n",
       "      <td>25461</td>\n",
       "      <td>False</td>\n",
       "      <td>False</td>\n",
       "      <td>en</td>\n",
       "    </tr>\n",
       "    <tr>\n",
       "      <th>3</th>\n",
       "      <td>891689557279858688</td>\n",
       "      <td>[0, 79]</td>\n",
       "      <td>{'id': 4196983835, 'id_str': '4196983835', 'na...</td>\n",
       "      <td>False</td>\n",
       "      <td>8964</td>\n",
       "      <td>42908</td>\n",
       "      <td>False</td>\n",
       "      <td>False</td>\n",
       "      <td>en</td>\n",
       "    </tr>\n",
       "    <tr>\n",
       "      <th>4</th>\n",
       "      <td>891327558926688256</td>\n",
       "      <td>[0, 138]</td>\n",
       "      <td>{'id': 4196983835, 'id_str': '4196983835', 'na...</td>\n",
       "      <td>False</td>\n",
       "      <td>9774</td>\n",
       "      <td>41048</td>\n",
       "      <td>False</td>\n",
       "      <td>False</td>\n",
       "      <td>en</td>\n",
       "    </tr>\n",
       "  </tbody>\n",
       "</table>\n",
       "</div>"
      ],
      "text/plain": [
       "             tweet_id display_text_range  \\\n",
       "0  892420643555336193            [0, 85]   \n",
       "1  892177421306343426           [0, 138]   \n",
       "2  891815181378084864           [0, 121]   \n",
       "3  891689557279858688            [0, 79]   \n",
       "4  891327558926688256           [0, 138]   \n",
       "\n",
       "                                                user  is_quote_status  \\\n",
       "0  {'id': 4196983835, 'id_str': '4196983835', 'na...            False   \n",
       "1  {'id': 4196983835, 'id_str': '4196983835', 'na...            False   \n",
       "2  {'id': 4196983835, 'id_str': '4196983835', 'na...            False   \n",
       "3  {'id': 4196983835, 'id_str': '4196983835', 'na...            False   \n",
       "4  {'id': 4196983835, 'id_str': '4196983835', 'na...            False   \n",
       "\n",
       "   retweet_count  favorite_count  favorited  retweeted lang  \n",
       "0           8853           39467      False      False   en  \n",
       "1           6514           33819      False      False   en  \n",
       "2           4328           25461      False      False   en  \n",
       "3           8964           42908      False      False   en  \n",
       "4           9774           41048      False      False   en  "
      ]
     },
     "execution_count": 71,
     "metadata": {},
     "output_type": "execute_result"
    }
   ],
   "source": [
    "df_tweet_json_cleaned.head()"
   ]
  },
  {
   "cell_type": "markdown",
   "id": "553c11a9",
   "metadata": {},
   "source": [
    "### Cleaning  Image dataset"
   ]
  },
  {
   "cell_type": "markdown",
   "id": "e4ef7cd4",
   "metadata": {},
   "source": [
    "<strong>Define</strong>"
   ]
  },
  {
   "cell_type": "markdown",
   "id": "50f0ac1c",
   "metadata": {},
   "source": [
    "Change datatype of  tweet_id Column"
   ]
  },
  {
   "cell_type": "markdown",
   "id": "254ae75a",
   "metadata": {},
   "source": [
    "<strong>Code</strong>"
   ]
  },
  {
   "cell_type": "code",
   "execution_count": 72,
   "id": "56925d3d",
   "metadata": {},
   "outputs": [],
   "source": [
    "df_image_cleaned['tweet_id']=df_image['tweet_id'].astype(str)"
   ]
  },
  {
   "cell_type": "markdown",
   "id": "a044052a",
   "metadata": {},
   "source": [
    "<strong>Test</strong>"
   ]
  },
  {
   "cell_type": "code",
   "execution_count": 73,
   "id": "179793a3",
   "metadata": {},
   "outputs": [
    {
     "name": "stdout",
     "output_type": "stream",
     "text": [
      "<class 'pandas.core.frame.DataFrame'>\n",
      "RangeIndex: 2075 entries, 0 to 2074\n",
      "Data columns (total 12 columns):\n",
      " #   Column    Non-Null Count  Dtype  \n",
      "---  ------    --------------  -----  \n",
      " 0   tweet_id  2075 non-null   object \n",
      " 1   jpg_url   2075 non-null   object \n",
      " 2   img_num   2075 non-null   int64  \n",
      " 3   p1        2075 non-null   object \n",
      " 4   p1_conf   2075 non-null   float64\n",
      " 5   p1_dog    2075 non-null   bool   \n",
      " 6   p2        2075 non-null   object \n",
      " 7   p2_conf   2075 non-null   float64\n",
      " 8   p2_dog    2075 non-null   bool   \n",
      " 9   p3        2075 non-null   object \n",
      " 10  p3_conf   2075 non-null   float64\n",
      " 11  p3_dog    2075 non-null   bool   \n",
      "dtypes: bool(3), float64(3), int64(1), object(5)\n",
      "memory usage: 152.1+ KB\n"
     ]
    }
   ],
   "source": [
    "df_image_cleaned.info()"
   ]
  },
  {
   "cell_type": "markdown",
   "id": "d6f3c2b2",
   "metadata": {},
   "source": [
    "<strong>Define</strong>"
   ]
  },
  {
   "cell_type": "markdown",
   "id": "35348b03",
   "metadata": {},
   "source": [
    "Change the upper name in p1,p2,and p3 column"
   ]
  },
  {
   "cell_type": "markdown",
   "id": "79f498fc",
   "metadata": {},
   "source": [
    "<strong>Code</strong>"
   ]
  },
  {
   "cell_type": "code",
   "execution_count": 74,
   "id": "ed63b2e6",
   "metadata": {},
   "outputs": [],
   "source": [
    "df_image_cleaned['p1'] = df_image_cleaned['p1'].str.lower()\n",
    "df_image_cleaned['p2'] = df_image_cleaned['p2'].str.lower()\n",
    "df_image_cleaned['p3'] = df_image_cleaned['p3'].str.lower()"
   ]
  },
  {
   "cell_type": "markdown",
   "id": "24fff987",
   "metadata": {},
   "source": [
    "<strong>Test</strong>"
   ]
  },
  {
   "cell_type": "code",
   "execution_count": 75,
   "id": "d7d03fa5",
   "metadata": {},
   "outputs": [],
   "source": [
    "df_image_p=df_image_cleaned[['p1','p2','p3']]"
   ]
  },
  {
   "cell_type": "code",
   "execution_count": 76,
   "id": "5882134d",
   "metadata": {},
   "outputs": [
    {
     "data": {
      "text/plain": [
       "golden_retriever      150\n",
       "labrador_retriever    100\n",
       "pembroke               89\n",
       "chihuahua              83\n",
       "pug                    57\n",
       "                     ... \n",
       "pillow                  1\n",
       "carousel                1\n",
       "bald_eagle              1\n",
       "lorikeet                1\n",
       "orange                  1\n",
       "Name: p1, Length: 378, dtype: int64"
      ]
     },
     "execution_count": 76,
     "metadata": {},
     "output_type": "execute_result"
    }
   ],
   "source": [
    "df_image_cleaned.p1.value_counts()"
   ]
  },
  {
   "cell_type": "code",
   "execution_count": 77,
   "id": "8fe95bda",
   "metadata": {},
   "outputs": [
    {
     "data": {
      "text/html": [
       "<div>\n",
       "<style scoped>\n",
       "    .dataframe tbody tr th:only-of-type {\n",
       "        vertical-align: middle;\n",
       "    }\n",
       "\n",
       "    .dataframe tbody tr th {\n",
       "        vertical-align: top;\n",
       "    }\n",
       "\n",
       "    .dataframe thead th {\n",
       "        text-align: right;\n",
       "    }\n",
       "</style>\n",
       "<table border=\"1\" class=\"dataframe\">\n",
       "  <thead>\n",
       "    <tr style=\"text-align: right;\">\n",
       "      <th></th>\n",
       "      <th>p1</th>\n",
       "      <th>p2</th>\n",
       "      <th>p3</th>\n",
       "    </tr>\n",
       "  </thead>\n",
       "  <tbody>\n",
       "    <tr>\n",
       "      <th>0</th>\n",
       "      <td>welsh_springer_spaniel</td>\n",
       "      <td>collie</td>\n",
       "      <td>shetland_sheepdog</td>\n",
       "    </tr>\n",
       "    <tr>\n",
       "      <th>1</th>\n",
       "      <td>redbone</td>\n",
       "      <td>miniature_pinscher</td>\n",
       "      <td>rhodesian_ridgeback</td>\n",
       "    </tr>\n",
       "    <tr>\n",
       "      <th>2</th>\n",
       "      <td>german_shepherd</td>\n",
       "      <td>malinois</td>\n",
       "      <td>bloodhound</td>\n",
       "    </tr>\n",
       "    <tr>\n",
       "      <th>3</th>\n",
       "      <td>rhodesian_ridgeback</td>\n",
       "      <td>redbone</td>\n",
       "      <td>miniature_pinscher</td>\n",
       "    </tr>\n",
       "    <tr>\n",
       "      <th>4</th>\n",
       "      <td>miniature_pinscher</td>\n",
       "      <td>rottweiler</td>\n",
       "      <td>doberman</td>\n",
       "    </tr>\n",
       "    <tr>\n",
       "      <th>5</th>\n",
       "      <td>bernese_mountain_dog</td>\n",
       "      <td>english_springer</td>\n",
       "      <td>greater_swiss_mountain_dog</td>\n",
       "    </tr>\n",
       "    <tr>\n",
       "      <th>6</th>\n",
       "      <td>box_turtle</td>\n",
       "      <td>mud_turtle</td>\n",
       "      <td>terrapin</td>\n",
       "    </tr>\n",
       "    <tr>\n",
       "      <th>7</th>\n",
       "      <td>chow</td>\n",
       "      <td>tibetan_mastiff</td>\n",
       "      <td>fur_coat</td>\n",
       "    </tr>\n",
       "    <tr>\n",
       "      <th>8</th>\n",
       "      <td>shopping_cart</td>\n",
       "      <td>shopping_basket</td>\n",
       "      <td>golden_retriever</td>\n",
       "    </tr>\n",
       "    <tr>\n",
       "      <th>9</th>\n",
       "      <td>miniature_poodle</td>\n",
       "      <td>komondor</td>\n",
       "      <td>soft-coated_wheaten_terrier</td>\n",
       "    </tr>\n",
       "    <tr>\n",
       "      <th>10</th>\n",
       "      <td>golden_retriever</td>\n",
       "      <td>tibetan_mastiff</td>\n",
       "      <td>labrador_retriever</td>\n",
       "    </tr>\n",
       "    <tr>\n",
       "      <th>11</th>\n",
       "      <td>gordon_setter</td>\n",
       "      <td>yorkshire_terrier</td>\n",
       "      <td>pekinese</td>\n",
       "    </tr>\n",
       "    <tr>\n",
       "      <th>12</th>\n",
       "      <td>walker_hound</td>\n",
       "      <td>english_foxhound</td>\n",
       "      <td>ibizan_hound</td>\n",
       "    </tr>\n",
       "    <tr>\n",
       "      <th>13</th>\n",
       "      <td>pug</td>\n",
       "      <td>bull_mastiff</td>\n",
       "      <td>french_bulldog</td>\n",
       "    </tr>\n",
       "    <tr>\n",
       "      <th>14</th>\n",
       "      <td>bloodhound</td>\n",
       "      <td>german_shepherd</td>\n",
       "      <td>malinois</td>\n",
       "    </tr>\n",
       "    <tr>\n",
       "      <th>15</th>\n",
       "      <td>lhasa</td>\n",
       "      <td>shih-tzu</td>\n",
       "      <td>dandie_dinmont</td>\n",
       "    </tr>\n",
       "    <tr>\n",
       "      <th>16</th>\n",
       "      <td>english_setter</td>\n",
       "      <td>newfoundland</td>\n",
       "      <td>borzoi</td>\n",
       "    </tr>\n",
       "    <tr>\n",
       "      <th>17</th>\n",
       "      <td>hen</td>\n",
       "      <td>cock</td>\n",
       "      <td>partridge</td>\n",
       "    </tr>\n",
       "    <tr>\n",
       "      <th>18</th>\n",
       "      <td>desktop_computer</td>\n",
       "      <td>desk</td>\n",
       "      <td>bookcase</td>\n",
       "    </tr>\n",
       "    <tr>\n",
       "      <th>19</th>\n",
       "      <td>italian_greyhound</td>\n",
       "      <td>toy_terrier</td>\n",
       "      <td>basenji</td>\n",
       "    </tr>\n",
       "  </tbody>\n",
       "</table>\n",
       "</div>"
      ],
      "text/plain": [
       "                        p1                  p2                           p3\n",
       "0   welsh_springer_spaniel              collie            shetland_sheepdog\n",
       "1                  redbone  miniature_pinscher          rhodesian_ridgeback\n",
       "2          german_shepherd            malinois                   bloodhound\n",
       "3      rhodesian_ridgeback             redbone           miniature_pinscher\n",
       "4       miniature_pinscher          rottweiler                     doberman\n",
       "5     bernese_mountain_dog    english_springer   greater_swiss_mountain_dog\n",
       "6               box_turtle          mud_turtle                     terrapin\n",
       "7                     chow     tibetan_mastiff                     fur_coat\n",
       "8            shopping_cart     shopping_basket             golden_retriever\n",
       "9         miniature_poodle            komondor  soft-coated_wheaten_terrier\n",
       "10        golden_retriever     tibetan_mastiff           labrador_retriever\n",
       "11           gordon_setter   yorkshire_terrier                     pekinese\n",
       "12            walker_hound    english_foxhound                 ibizan_hound\n",
       "13                     pug        bull_mastiff               french_bulldog\n",
       "14              bloodhound     german_shepherd                     malinois\n",
       "15                   lhasa            shih-tzu               dandie_dinmont\n",
       "16          english_setter        newfoundland                       borzoi\n",
       "17                     hen                cock                    partridge\n",
       "18        desktop_computer                desk                     bookcase\n",
       "19       italian_greyhound         toy_terrier                      basenji"
      ]
     },
     "execution_count": 77,
     "metadata": {},
     "output_type": "execute_result"
    }
   ],
   "source": [
    "df_image_p.head(20)"
   ]
  },
  {
   "cell_type": "code",
   "execution_count": 78,
   "id": "1cfe2d7a",
   "metadata": {},
   "outputs": [
    {
     "data": {
      "text/html": [
       "<div>\n",
       "<style scoped>\n",
       "    .dataframe tbody tr th:only-of-type {\n",
       "        vertical-align: middle;\n",
       "    }\n",
       "\n",
       "    .dataframe tbody tr th {\n",
       "        vertical-align: top;\n",
       "    }\n",
       "\n",
       "    .dataframe thead th {\n",
       "        text-align: right;\n",
       "    }\n",
       "</style>\n",
       "<table border=\"1\" class=\"dataframe\">\n",
       "  <thead>\n",
       "    <tr style=\"text-align: right;\">\n",
       "      <th></th>\n",
       "      <th>tweet_id</th>\n",
       "      <th>jpg_url</th>\n",
       "      <th>img_num</th>\n",
       "      <th>p1</th>\n",
       "      <th>p1_conf</th>\n",
       "      <th>p1_dog</th>\n",
       "      <th>p2</th>\n",
       "      <th>p2_conf</th>\n",
       "      <th>p2_dog</th>\n",
       "      <th>p3</th>\n",
       "      <th>p3_conf</th>\n",
       "      <th>p3_dog</th>\n",
       "    </tr>\n",
       "  </thead>\n",
       "  <tbody>\n",
       "    <tr>\n",
       "      <th>0</th>\n",
       "      <td>666020888022790149</td>\n",
       "      <td>https://pbs.twimg.com/media/CT4udn0WwAA0aMy.jpg</td>\n",
       "      <td>1</td>\n",
       "      <td>welsh_springer_spaniel</td>\n",
       "      <td>0.465074</td>\n",
       "      <td>True</td>\n",
       "      <td>collie</td>\n",
       "      <td>0.156665</td>\n",
       "      <td>True</td>\n",
       "      <td>shetland_sheepdog</td>\n",
       "      <td>0.061428</td>\n",
       "      <td>True</td>\n",
       "    </tr>\n",
       "    <tr>\n",
       "      <th>1</th>\n",
       "      <td>666029285002620928</td>\n",
       "      <td>https://pbs.twimg.com/media/CT42GRgUYAA5iDo.jpg</td>\n",
       "      <td>1</td>\n",
       "      <td>redbone</td>\n",
       "      <td>0.506826</td>\n",
       "      <td>True</td>\n",
       "      <td>miniature_pinscher</td>\n",
       "      <td>0.074192</td>\n",
       "      <td>True</td>\n",
       "      <td>rhodesian_ridgeback</td>\n",
       "      <td>0.072010</td>\n",
       "      <td>True</td>\n",
       "    </tr>\n",
       "    <tr>\n",
       "      <th>2</th>\n",
       "      <td>666033412701032449</td>\n",
       "      <td>https://pbs.twimg.com/media/CT4521TWwAEvMyu.jpg</td>\n",
       "      <td>1</td>\n",
       "      <td>german_shepherd</td>\n",
       "      <td>0.596461</td>\n",
       "      <td>True</td>\n",
       "      <td>malinois</td>\n",
       "      <td>0.138584</td>\n",
       "      <td>True</td>\n",
       "      <td>bloodhound</td>\n",
       "      <td>0.116197</td>\n",
       "      <td>True</td>\n",
       "    </tr>\n",
       "    <tr>\n",
       "      <th>3</th>\n",
       "      <td>666044226329800704</td>\n",
       "      <td>https://pbs.twimg.com/media/CT5Dr8HUEAA-lEu.jpg</td>\n",
       "      <td>1</td>\n",
       "      <td>rhodesian_ridgeback</td>\n",
       "      <td>0.408143</td>\n",
       "      <td>True</td>\n",
       "      <td>redbone</td>\n",
       "      <td>0.360687</td>\n",
       "      <td>True</td>\n",
       "      <td>miniature_pinscher</td>\n",
       "      <td>0.222752</td>\n",
       "      <td>True</td>\n",
       "    </tr>\n",
       "    <tr>\n",
       "      <th>4</th>\n",
       "      <td>666049248165822465</td>\n",
       "      <td>https://pbs.twimg.com/media/CT5IQmsXIAAKY4A.jpg</td>\n",
       "      <td>1</td>\n",
       "      <td>miniature_pinscher</td>\n",
       "      <td>0.560311</td>\n",
       "      <td>True</td>\n",
       "      <td>rottweiler</td>\n",
       "      <td>0.243682</td>\n",
       "      <td>True</td>\n",
       "      <td>doberman</td>\n",
       "      <td>0.154629</td>\n",
       "      <td>True</td>\n",
       "    </tr>\n",
       "  </tbody>\n",
       "</table>\n",
       "</div>"
      ],
      "text/plain": [
       "             tweet_id                                          jpg_url  \\\n",
       "0  666020888022790149  https://pbs.twimg.com/media/CT4udn0WwAA0aMy.jpg   \n",
       "1  666029285002620928  https://pbs.twimg.com/media/CT42GRgUYAA5iDo.jpg   \n",
       "2  666033412701032449  https://pbs.twimg.com/media/CT4521TWwAEvMyu.jpg   \n",
       "3  666044226329800704  https://pbs.twimg.com/media/CT5Dr8HUEAA-lEu.jpg   \n",
       "4  666049248165822465  https://pbs.twimg.com/media/CT5IQmsXIAAKY4A.jpg   \n",
       "\n",
       "   img_num                      p1   p1_conf  p1_dog                  p2  \\\n",
       "0        1  welsh_springer_spaniel  0.465074    True              collie   \n",
       "1        1                 redbone  0.506826    True  miniature_pinscher   \n",
       "2        1         german_shepherd  0.596461    True            malinois   \n",
       "3        1     rhodesian_ridgeback  0.408143    True             redbone   \n",
       "4        1      miniature_pinscher  0.560311    True          rottweiler   \n",
       "\n",
       "    p2_conf  p2_dog                   p3   p3_conf  p3_dog  \n",
       "0  0.156665    True    shetland_sheepdog  0.061428    True  \n",
       "1  0.074192    True  rhodesian_ridgeback  0.072010    True  \n",
       "2  0.138584    True           bloodhound  0.116197    True  \n",
       "3  0.360687    True   miniature_pinscher  0.222752    True  \n",
       "4  0.243682    True             doberman  0.154629    True  "
      ]
     },
     "execution_count": 78,
     "metadata": {},
     "output_type": "execute_result"
    }
   ],
   "source": [
    "df_image_cleaned.head()"
   ]
  },
  {
   "cell_type": "code",
   "execution_count": 79,
   "id": "545ce074",
   "metadata": {},
   "outputs": [],
   "source": [
    "merged_df=df_archive_cleaned.join(df_image_cleaned.set_index('tweet_id'), on='tweet_id')"
   ]
  },
  {
   "cell_type": "code",
   "execution_count": 80,
   "id": "60841cc0",
   "metadata": {},
   "outputs": [
    {
     "data": {
      "text/html": [
       "<div>\n",
       "<style scoped>\n",
       "    .dataframe tbody tr th:only-of-type {\n",
       "        vertical-align: middle;\n",
       "    }\n",
       "\n",
       "    .dataframe tbody tr th {\n",
       "        vertical-align: top;\n",
       "    }\n",
       "\n",
       "    .dataframe thead th {\n",
       "        text-align: right;\n",
       "    }\n",
       "</style>\n",
       "<table border=\"1\" class=\"dataframe\">\n",
       "  <thead>\n",
       "    <tr style=\"text-align: right;\">\n",
       "      <th></th>\n",
       "      <th>tweet_id</th>\n",
       "      <th>source</th>\n",
       "      <th>text</th>\n",
       "      <th>rating_numerator</th>\n",
       "      <th>rating_denominator</th>\n",
       "      <th>name</th>\n",
       "      <th>date</th>\n",
       "      <th>time</th>\n",
       "      <th>dog_type</th>\n",
       "      <th>rating</th>\n",
       "      <th>jpg_url</th>\n",
       "      <th>img_num</th>\n",
       "      <th>p1</th>\n",
       "      <th>p1_conf</th>\n",
       "      <th>p1_dog</th>\n",
       "      <th>p2</th>\n",
       "      <th>p2_conf</th>\n",
       "      <th>p2_dog</th>\n",
       "      <th>p3</th>\n",
       "      <th>p3_conf</th>\n",
       "      <th>p3_dog</th>\n",
       "    </tr>\n",
       "  </thead>\n",
       "  <tbody>\n",
       "    <tr>\n",
       "      <th>0</th>\n",
       "      <td>892420643555336193</td>\n",
       "      <td>iPhone</td>\n",
       "      <td>This is Phineas. He's a mystical boy. Only eve...</td>\n",
       "      <td>13</td>\n",
       "      <td>10</td>\n",
       "      <td>Phineas</td>\n",
       "      <td>2017-08-01</td>\n",
       "      <td>16:23:56</td>\n",
       "      <td>NaN</td>\n",
       "      <td>1.3</td>\n",
       "      <td>https://pbs.twimg.com/media/DGKD1-bXoAAIAUK.jpg</td>\n",
       "      <td>1.0</td>\n",
       "      <td>orange</td>\n",
       "      <td>0.097049</td>\n",
       "      <td>False</td>\n",
       "      <td>bagel</td>\n",
       "      <td>0.085851</td>\n",
       "      <td>False</td>\n",
       "      <td>banana</td>\n",
       "      <td>0.076110</td>\n",
       "      <td>False</td>\n",
       "    </tr>\n",
       "    <tr>\n",
       "      <th>1</th>\n",
       "      <td>892177421306343426</td>\n",
       "      <td>iPhone</td>\n",
       "      <td>This is Tilly. She's just checking pup on you....</td>\n",
       "      <td>13</td>\n",
       "      <td>10</td>\n",
       "      <td>Tilly</td>\n",
       "      <td>2017-08-01</td>\n",
       "      <td>00:17:27</td>\n",
       "      <td>NaN</td>\n",
       "      <td>1.3</td>\n",
       "      <td>https://pbs.twimg.com/media/DGGmoV4XsAAUL6n.jpg</td>\n",
       "      <td>1.0</td>\n",
       "      <td>chihuahua</td>\n",
       "      <td>0.323581</td>\n",
       "      <td>True</td>\n",
       "      <td>pekinese</td>\n",
       "      <td>0.090647</td>\n",
       "      <td>True</td>\n",
       "      <td>papillon</td>\n",
       "      <td>0.068957</td>\n",
       "      <td>True</td>\n",
       "    </tr>\n",
       "    <tr>\n",
       "      <th>2</th>\n",
       "      <td>891815181378084864</td>\n",
       "      <td>iPhone</td>\n",
       "      <td>This is Archie. He is a rare Norwegian Pouncin...</td>\n",
       "      <td>12</td>\n",
       "      <td>10</td>\n",
       "      <td>Archie</td>\n",
       "      <td>2017-07-31</td>\n",
       "      <td>00:18:03</td>\n",
       "      <td>NaN</td>\n",
       "      <td>1.2</td>\n",
       "      <td>https://pbs.twimg.com/media/DGBdLU1WsAANxJ9.jpg</td>\n",
       "      <td>1.0</td>\n",
       "      <td>chihuahua</td>\n",
       "      <td>0.716012</td>\n",
       "      <td>True</td>\n",
       "      <td>malamute</td>\n",
       "      <td>0.078253</td>\n",
       "      <td>True</td>\n",
       "      <td>kelpie</td>\n",
       "      <td>0.031379</td>\n",
       "      <td>True</td>\n",
       "    </tr>\n",
       "    <tr>\n",
       "      <th>3</th>\n",
       "      <td>891689557279858688</td>\n",
       "      <td>iPhone</td>\n",
       "      <td>This is Darla. She commenced a snooze mid meal...</td>\n",
       "      <td>13</td>\n",
       "      <td>10</td>\n",
       "      <td>Darla</td>\n",
       "      <td>2017-07-30</td>\n",
       "      <td>15:58:51</td>\n",
       "      <td>NaN</td>\n",
       "      <td>1.3</td>\n",
       "      <td>https://pbs.twimg.com/media/DF_q7IAWsAEuuN8.jpg</td>\n",
       "      <td>1.0</td>\n",
       "      <td>paper_towel</td>\n",
       "      <td>0.170278</td>\n",
       "      <td>False</td>\n",
       "      <td>labrador_retriever</td>\n",
       "      <td>0.168086</td>\n",
       "      <td>True</td>\n",
       "      <td>spatula</td>\n",
       "      <td>0.040836</td>\n",
       "      <td>False</td>\n",
       "    </tr>\n",
       "    <tr>\n",
       "      <th>4</th>\n",
       "      <td>891327558926688256</td>\n",
       "      <td>iPhone</td>\n",
       "      <td>This is Franklin. He would like you to stop ca...</td>\n",
       "      <td>12</td>\n",
       "      <td>10</td>\n",
       "      <td>Franklin</td>\n",
       "      <td>2017-07-29</td>\n",
       "      <td>16:00:24</td>\n",
       "      <td>NaN</td>\n",
       "      <td>1.2</td>\n",
       "      <td>https://pbs.twimg.com/media/DF6hr6BUMAAzZgT.jpg</td>\n",
       "      <td>2.0</td>\n",
       "      <td>basset</td>\n",
       "      <td>0.555712</td>\n",
       "      <td>True</td>\n",
       "      <td>english_springer</td>\n",
       "      <td>0.225770</td>\n",
       "      <td>True</td>\n",
       "      <td>german_short-haired_pointer</td>\n",
       "      <td>0.175219</td>\n",
       "      <td>True</td>\n",
       "    </tr>\n",
       "  </tbody>\n",
       "</table>\n",
       "</div>"
      ],
      "text/plain": [
       "             tweet_id  source  \\\n",
       "0  892420643555336193  iPhone   \n",
       "1  892177421306343426  iPhone   \n",
       "2  891815181378084864  iPhone   \n",
       "3  891689557279858688  iPhone   \n",
       "4  891327558926688256  iPhone   \n",
       "\n",
       "                                                text  rating_numerator  \\\n",
       "0  This is Phineas. He's a mystical boy. Only eve...                13   \n",
       "1  This is Tilly. She's just checking pup on you....                13   \n",
       "2  This is Archie. He is a rare Norwegian Pouncin...                12   \n",
       "3  This is Darla. She commenced a snooze mid meal...                13   \n",
       "4  This is Franklin. He would like you to stop ca...                12   \n",
       "\n",
       "   rating_denominator      name        date      time dog_type  rating  \\\n",
       "0                  10   Phineas  2017-08-01  16:23:56      NaN     1.3   \n",
       "1                  10     Tilly  2017-08-01  00:17:27      NaN     1.3   \n",
       "2                  10    Archie  2017-07-31  00:18:03      NaN     1.2   \n",
       "3                  10     Darla  2017-07-30  15:58:51      NaN     1.3   \n",
       "4                  10  Franklin  2017-07-29  16:00:24      NaN     1.2   \n",
       "\n",
       "                                           jpg_url  img_num           p1  \\\n",
       "0  https://pbs.twimg.com/media/DGKD1-bXoAAIAUK.jpg      1.0       orange   \n",
       "1  https://pbs.twimg.com/media/DGGmoV4XsAAUL6n.jpg      1.0    chihuahua   \n",
       "2  https://pbs.twimg.com/media/DGBdLU1WsAANxJ9.jpg      1.0    chihuahua   \n",
       "3  https://pbs.twimg.com/media/DF_q7IAWsAEuuN8.jpg      1.0  paper_towel   \n",
       "4  https://pbs.twimg.com/media/DF6hr6BUMAAzZgT.jpg      2.0       basset   \n",
       "\n",
       "    p1_conf p1_dog                  p2   p2_conf p2_dog  \\\n",
       "0  0.097049  False               bagel  0.085851  False   \n",
       "1  0.323581   True            pekinese  0.090647   True   \n",
       "2  0.716012   True            malamute  0.078253   True   \n",
       "3  0.170278  False  labrador_retriever  0.168086   True   \n",
       "4  0.555712   True    english_springer  0.225770   True   \n",
       "\n",
       "                            p3   p3_conf p3_dog  \n",
       "0                       banana  0.076110  False  \n",
       "1                     papillon  0.068957   True  \n",
       "2                       kelpie  0.031379   True  \n",
       "3                      spatula  0.040836  False  \n",
       "4  german_short-haired_pointer  0.175219   True  "
      ]
     },
     "execution_count": 80,
     "metadata": {},
     "output_type": "execute_result"
    }
   ],
   "source": [
    "merged_df.head()"
   ]
  },
  {
   "cell_type": "code",
   "execution_count": 81,
   "id": "6125babc",
   "metadata": {},
   "outputs": [
    {
     "name": "stdout",
     "output_type": "stream",
     "text": [
      "<class 'pandas.core.frame.DataFrame'>\n",
      "RangeIndex: 2356 entries, 0 to 2355\n",
      "Data columns (total 21 columns):\n",
      " #   Column              Non-Null Count  Dtype   \n",
      "---  ------              --------------  -----   \n",
      " 0   tweet_id            2356 non-null   object  \n",
      " 1   source              2356 non-null   object  \n",
      " 2   text                2356 non-null   string  \n",
      " 3   rating_numerator    2356 non-null   int16   \n",
      " 4   rating_denominator  2356 non-null   int16   \n",
      " 5   name                1611 non-null   string  \n",
      " 6   date                2356 non-null   object  \n",
      " 7   time                2356 non-null   object  \n",
      " 8   dog_type            380 non-null    category\n",
      " 9   rating              2356 non-null   float64 \n",
      " 10  jpg_url             2075 non-null   object  \n",
      " 11  img_num             2075 non-null   float64 \n",
      " 12  p1                  2075 non-null   object  \n",
      " 13  p1_conf             2075 non-null   float64 \n",
      " 14  p1_dog              2075 non-null   object  \n",
      " 15  p2                  2075 non-null   object  \n",
      " 16  p2_conf             2075 non-null   float64 \n",
      " 17  p2_dog              2075 non-null   object  \n",
      " 18  p3                  2075 non-null   object  \n",
      " 19  p3_conf             2075 non-null   float64 \n",
      " 20  p3_dog              2075 non-null   object  \n",
      "dtypes: category(1), float64(5), int16(2), object(11), string(2)\n",
      "memory usage: 343.3+ KB\n"
     ]
    }
   ],
   "source": [
    "merged_df.info()"
   ]
  },
  {
   "cell_type": "code",
   "execution_count": 82,
   "id": "39d53c8e",
   "metadata": {},
   "outputs": [],
   "source": [
    "twitter_archive_master=merged_df.join(df_tweet_json_cleaned.set_index('tweet_id'), on='tweet_id')"
   ]
  },
  {
   "cell_type": "code",
   "execution_count": 83,
   "id": "e9b661f4",
   "metadata": {},
   "outputs": [
    {
     "data": {
      "text/html": [
       "<div>\n",
       "<style scoped>\n",
       "    .dataframe tbody tr th:only-of-type {\n",
       "        vertical-align: middle;\n",
       "    }\n",
       "\n",
       "    .dataframe tbody tr th {\n",
       "        vertical-align: top;\n",
       "    }\n",
       "\n",
       "    .dataframe thead th {\n",
       "        text-align: right;\n",
       "    }\n",
       "</style>\n",
       "<table border=\"1\" class=\"dataframe\">\n",
       "  <thead>\n",
       "    <tr style=\"text-align: right;\">\n",
       "      <th></th>\n",
       "      <th>tweet_id</th>\n",
       "      <th>source</th>\n",
       "      <th>text</th>\n",
       "      <th>rating_numerator</th>\n",
       "      <th>rating_denominator</th>\n",
       "      <th>name</th>\n",
       "      <th>date</th>\n",
       "      <th>time</th>\n",
       "      <th>dog_type</th>\n",
       "      <th>rating</th>\n",
       "      <th>jpg_url</th>\n",
       "      <th>img_num</th>\n",
       "      <th>p1</th>\n",
       "      <th>p1_conf</th>\n",
       "      <th>p1_dog</th>\n",
       "      <th>p2</th>\n",
       "      <th>p2_conf</th>\n",
       "      <th>p2_dog</th>\n",
       "      <th>p3</th>\n",
       "      <th>p3_conf</th>\n",
       "      <th>p3_dog</th>\n",
       "      <th>display_text_range</th>\n",
       "      <th>user</th>\n",
       "      <th>is_quote_status</th>\n",
       "      <th>retweet_count</th>\n",
       "      <th>favorite_count</th>\n",
       "      <th>favorited</th>\n",
       "      <th>retweeted</th>\n",
       "      <th>lang</th>\n",
       "    </tr>\n",
       "  </thead>\n",
       "  <tbody>\n",
       "    <tr>\n",
       "      <th>0</th>\n",
       "      <td>892420643555336193</td>\n",
       "      <td>iPhone</td>\n",
       "      <td>This is Phineas. He's a mystical boy. Only eve...</td>\n",
       "      <td>13</td>\n",
       "      <td>10</td>\n",
       "      <td>Phineas</td>\n",
       "      <td>2017-08-01</td>\n",
       "      <td>16:23:56</td>\n",
       "      <td>NaN</td>\n",
       "      <td>1.3</td>\n",
       "      <td>https://pbs.twimg.com/media/DGKD1-bXoAAIAUK.jpg</td>\n",
       "      <td>1.0</td>\n",
       "      <td>orange</td>\n",
       "      <td>0.097049</td>\n",
       "      <td>False</td>\n",
       "      <td>bagel</td>\n",
       "      <td>0.085851</td>\n",
       "      <td>False</td>\n",
       "      <td>banana</td>\n",
       "      <td>0.076110</td>\n",
       "      <td>False</td>\n",
       "      <td>[0, 85]</td>\n",
       "      <td>{'id': 4196983835, 'id_str': '4196983835', 'na...</td>\n",
       "      <td>False</td>\n",
       "      <td>8853.0</td>\n",
       "      <td>39467.0</td>\n",
       "      <td>False</td>\n",
       "      <td>False</td>\n",
       "      <td>en</td>\n",
       "    </tr>\n",
       "    <tr>\n",
       "      <th>1</th>\n",
       "      <td>892177421306343426</td>\n",
       "      <td>iPhone</td>\n",
       "      <td>This is Tilly. She's just checking pup on you....</td>\n",
       "      <td>13</td>\n",
       "      <td>10</td>\n",
       "      <td>Tilly</td>\n",
       "      <td>2017-08-01</td>\n",
       "      <td>00:17:27</td>\n",
       "      <td>NaN</td>\n",
       "      <td>1.3</td>\n",
       "      <td>https://pbs.twimg.com/media/DGGmoV4XsAAUL6n.jpg</td>\n",
       "      <td>1.0</td>\n",
       "      <td>chihuahua</td>\n",
       "      <td>0.323581</td>\n",
       "      <td>True</td>\n",
       "      <td>pekinese</td>\n",
       "      <td>0.090647</td>\n",
       "      <td>True</td>\n",
       "      <td>papillon</td>\n",
       "      <td>0.068957</td>\n",
       "      <td>True</td>\n",
       "      <td>[0, 138]</td>\n",
       "      <td>{'id': 4196983835, 'id_str': '4196983835', 'na...</td>\n",
       "      <td>False</td>\n",
       "      <td>6514.0</td>\n",
       "      <td>33819.0</td>\n",
       "      <td>False</td>\n",
       "      <td>False</td>\n",
       "      <td>en</td>\n",
       "    </tr>\n",
       "    <tr>\n",
       "      <th>2</th>\n",
       "      <td>891815181378084864</td>\n",
       "      <td>iPhone</td>\n",
       "      <td>This is Archie. He is a rare Norwegian Pouncin...</td>\n",
       "      <td>12</td>\n",
       "      <td>10</td>\n",
       "      <td>Archie</td>\n",
       "      <td>2017-07-31</td>\n",
       "      <td>00:18:03</td>\n",
       "      <td>NaN</td>\n",
       "      <td>1.2</td>\n",
       "      <td>https://pbs.twimg.com/media/DGBdLU1WsAANxJ9.jpg</td>\n",
       "      <td>1.0</td>\n",
       "      <td>chihuahua</td>\n",
       "      <td>0.716012</td>\n",
       "      <td>True</td>\n",
       "      <td>malamute</td>\n",
       "      <td>0.078253</td>\n",
       "      <td>True</td>\n",
       "      <td>kelpie</td>\n",
       "      <td>0.031379</td>\n",
       "      <td>True</td>\n",
       "      <td>[0, 121]</td>\n",
       "      <td>{'id': 4196983835, 'id_str': '4196983835', 'na...</td>\n",
       "      <td>False</td>\n",
       "      <td>4328.0</td>\n",
       "      <td>25461.0</td>\n",
       "      <td>False</td>\n",
       "      <td>False</td>\n",
       "      <td>en</td>\n",
       "    </tr>\n",
       "    <tr>\n",
       "      <th>3</th>\n",
       "      <td>891689557279858688</td>\n",
       "      <td>iPhone</td>\n",
       "      <td>This is Darla. She commenced a snooze mid meal...</td>\n",
       "      <td>13</td>\n",
       "      <td>10</td>\n",
       "      <td>Darla</td>\n",
       "      <td>2017-07-30</td>\n",
       "      <td>15:58:51</td>\n",
       "      <td>NaN</td>\n",
       "      <td>1.3</td>\n",
       "      <td>https://pbs.twimg.com/media/DF_q7IAWsAEuuN8.jpg</td>\n",
       "      <td>1.0</td>\n",
       "      <td>paper_towel</td>\n",
       "      <td>0.170278</td>\n",
       "      <td>False</td>\n",
       "      <td>labrador_retriever</td>\n",
       "      <td>0.168086</td>\n",
       "      <td>True</td>\n",
       "      <td>spatula</td>\n",
       "      <td>0.040836</td>\n",
       "      <td>False</td>\n",
       "      <td>[0, 79]</td>\n",
       "      <td>{'id': 4196983835, 'id_str': '4196983835', 'na...</td>\n",
       "      <td>False</td>\n",
       "      <td>8964.0</td>\n",
       "      <td>42908.0</td>\n",
       "      <td>False</td>\n",
       "      <td>False</td>\n",
       "      <td>en</td>\n",
       "    </tr>\n",
       "    <tr>\n",
       "      <th>4</th>\n",
       "      <td>891327558926688256</td>\n",
       "      <td>iPhone</td>\n",
       "      <td>This is Franklin. He would like you to stop ca...</td>\n",
       "      <td>12</td>\n",
       "      <td>10</td>\n",
       "      <td>Franklin</td>\n",
       "      <td>2017-07-29</td>\n",
       "      <td>16:00:24</td>\n",
       "      <td>NaN</td>\n",
       "      <td>1.2</td>\n",
       "      <td>https://pbs.twimg.com/media/DF6hr6BUMAAzZgT.jpg</td>\n",
       "      <td>2.0</td>\n",
       "      <td>basset</td>\n",
       "      <td>0.555712</td>\n",
       "      <td>True</td>\n",
       "      <td>english_springer</td>\n",
       "      <td>0.225770</td>\n",
       "      <td>True</td>\n",
       "      <td>german_short-haired_pointer</td>\n",
       "      <td>0.175219</td>\n",
       "      <td>True</td>\n",
       "      <td>[0, 138]</td>\n",
       "      <td>{'id': 4196983835, 'id_str': '4196983835', 'na...</td>\n",
       "      <td>False</td>\n",
       "      <td>9774.0</td>\n",
       "      <td>41048.0</td>\n",
       "      <td>False</td>\n",
       "      <td>False</td>\n",
       "      <td>en</td>\n",
       "    </tr>\n",
       "  </tbody>\n",
       "</table>\n",
       "</div>"
      ],
      "text/plain": [
       "             tweet_id  source  \\\n",
       "0  892420643555336193  iPhone   \n",
       "1  892177421306343426  iPhone   \n",
       "2  891815181378084864  iPhone   \n",
       "3  891689557279858688  iPhone   \n",
       "4  891327558926688256  iPhone   \n",
       "\n",
       "                                                text  rating_numerator  \\\n",
       "0  This is Phineas. He's a mystical boy. Only eve...                13   \n",
       "1  This is Tilly. She's just checking pup on you....                13   \n",
       "2  This is Archie. He is a rare Norwegian Pouncin...                12   \n",
       "3  This is Darla. She commenced a snooze mid meal...                13   \n",
       "4  This is Franklin. He would like you to stop ca...                12   \n",
       "\n",
       "   rating_denominator      name        date      time dog_type  rating  \\\n",
       "0                  10   Phineas  2017-08-01  16:23:56      NaN     1.3   \n",
       "1                  10     Tilly  2017-08-01  00:17:27      NaN     1.3   \n",
       "2                  10    Archie  2017-07-31  00:18:03      NaN     1.2   \n",
       "3                  10     Darla  2017-07-30  15:58:51      NaN     1.3   \n",
       "4                  10  Franklin  2017-07-29  16:00:24      NaN     1.2   \n",
       "\n",
       "                                           jpg_url  img_num           p1  \\\n",
       "0  https://pbs.twimg.com/media/DGKD1-bXoAAIAUK.jpg      1.0       orange   \n",
       "1  https://pbs.twimg.com/media/DGGmoV4XsAAUL6n.jpg      1.0    chihuahua   \n",
       "2  https://pbs.twimg.com/media/DGBdLU1WsAANxJ9.jpg      1.0    chihuahua   \n",
       "3  https://pbs.twimg.com/media/DF_q7IAWsAEuuN8.jpg      1.0  paper_towel   \n",
       "4  https://pbs.twimg.com/media/DF6hr6BUMAAzZgT.jpg      2.0       basset   \n",
       "\n",
       "    p1_conf p1_dog                  p2   p2_conf p2_dog  \\\n",
       "0  0.097049  False               bagel  0.085851  False   \n",
       "1  0.323581   True            pekinese  0.090647   True   \n",
       "2  0.716012   True            malamute  0.078253   True   \n",
       "3  0.170278  False  labrador_retriever  0.168086   True   \n",
       "4  0.555712   True    english_springer  0.225770   True   \n",
       "\n",
       "                            p3   p3_conf p3_dog display_text_range  \\\n",
       "0                       banana  0.076110  False            [0, 85]   \n",
       "1                     papillon  0.068957   True           [0, 138]   \n",
       "2                       kelpie  0.031379   True           [0, 121]   \n",
       "3                      spatula  0.040836  False            [0, 79]   \n",
       "4  german_short-haired_pointer  0.175219   True           [0, 138]   \n",
       "\n",
       "                                                user is_quote_status  \\\n",
       "0  {'id': 4196983835, 'id_str': '4196983835', 'na...           False   \n",
       "1  {'id': 4196983835, 'id_str': '4196983835', 'na...           False   \n",
       "2  {'id': 4196983835, 'id_str': '4196983835', 'na...           False   \n",
       "3  {'id': 4196983835, 'id_str': '4196983835', 'na...           False   \n",
       "4  {'id': 4196983835, 'id_str': '4196983835', 'na...           False   \n",
       "\n",
       "   retweet_count  favorite_count favorited retweeted lang  \n",
       "0         8853.0         39467.0     False     False   en  \n",
       "1         6514.0         33819.0     False     False   en  \n",
       "2         4328.0         25461.0     False     False   en  \n",
       "3         8964.0         42908.0     False     False   en  \n",
       "4         9774.0         41048.0     False     False   en  "
      ]
     },
     "execution_count": 83,
     "metadata": {},
     "output_type": "execute_result"
    }
   ],
   "source": [
    "twitter_archive_master.head()"
   ]
  },
  {
   "cell_type": "code",
   "execution_count": 84,
   "id": "a23c1b08",
   "metadata": {},
   "outputs": [
    {
     "name": "stdout",
     "output_type": "stream",
     "text": [
      "<class 'pandas.core.frame.DataFrame'>\n",
      "RangeIndex: 2356 entries, 0 to 2355\n",
      "Data columns (total 29 columns):\n",
      " #   Column              Non-Null Count  Dtype   \n",
      "---  ------              --------------  -----   \n",
      " 0   tweet_id            2356 non-null   object  \n",
      " 1   source              2356 non-null   object  \n",
      " 2   text                2356 non-null   string  \n",
      " 3   rating_numerator    2356 non-null   int16   \n",
      " 4   rating_denominator  2356 non-null   int16   \n",
      " 5   name                1611 non-null   string  \n",
      " 6   date                2356 non-null   object  \n",
      " 7   time                2356 non-null   object  \n",
      " 8   dog_type            380 non-null    category\n",
      " 9   rating              2356 non-null   float64 \n",
      " 10  jpg_url             2075 non-null   object  \n",
      " 11  img_num             2075 non-null   float64 \n",
      " 12  p1                  2075 non-null   object  \n",
      " 13  p1_conf             2075 non-null   float64 \n",
      " 14  p1_dog              2075 non-null   object  \n",
      " 15  p2                  2075 non-null   object  \n",
      " 16  p2_conf             2075 non-null   float64 \n",
      " 17  p2_dog              2075 non-null   object  \n",
      " 18  p3                  2075 non-null   object  \n",
      " 19  p3_conf             2075 non-null   float64 \n",
      " 20  p3_dog              2075 non-null   object  \n",
      " 21  display_text_range  2354 non-null   object  \n",
      " 22  user                2354 non-null   object  \n",
      " 23  is_quote_status     2354 non-null   object  \n",
      " 24  retweet_count       2354 non-null   float64 \n",
      " 25  favorite_count      2354 non-null   float64 \n",
      " 26  favorited           2354 non-null   object  \n",
      " 27  retweeted           2354 non-null   object  \n",
      " 28  lang                2354 non-null   object  \n",
      "dtypes: category(1), float64(7), int16(2), object(17), string(2)\n",
      "memory usage: 490.5+ KB\n"
     ]
    }
   ],
   "source": [
    "twitter_archive_master.info()"
   ]
  },
  {
   "cell_type": "code",
   "execution_count": 85,
   "id": "797755e2",
   "metadata": {},
   "outputs": [
    {
     "data": {
      "text/html": [
       "<div>\n",
       "<style scoped>\n",
       "    .dataframe tbody tr th:only-of-type {\n",
       "        vertical-align: middle;\n",
       "    }\n",
       "\n",
       "    .dataframe tbody tr th {\n",
       "        vertical-align: top;\n",
       "    }\n",
       "\n",
       "    .dataframe thead th {\n",
       "        text-align: right;\n",
       "    }\n",
       "</style>\n",
       "<table border=\"1\" class=\"dataframe\">\n",
       "  <thead>\n",
       "    <tr style=\"text-align: right;\">\n",
       "      <th></th>\n",
       "      <th>rating_numerator</th>\n",
       "      <th>rating_denominator</th>\n",
       "      <th>rating</th>\n",
       "      <th>img_num</th>\n",
       "      <th>p1_conf</th>\n",
       "      <th>p2_conf</th>\n",
       "      <th>p3_conf</th>\n",
       "      <th>retweet_count</th>\n",
       "      <th>favorite_count</th>\n",
       "    </tr>\n",
       "  </thead>\n",
       "  <tbody>\n",
       "    <tr>\n",
       "      <th>count</th>\n",
       "      <td>2356.000000</td>\n",
       "      <td>2356.000000</td>\n",
       "      <td>2356.000000</td>\n",
       "      <td>2075.000000</td>\n",
       "      <td>2075.000000</td>\n",
       "      <td>2.075000e+03</td>\n",
       "      <td>2.075000e+03</td>\n",
       "      <td>2354.000000</td>\n",
       "      <td>2354.000000</td>\n",
       "    </tr>\n",
       "    <tr>\n",
       "      <th>mean</th>\n",
       "      <td>13.126486</td>\n",
       "      <td>10.455433</td>\n",
       "      <td>1.221513</td>\n",
       "      <td>1.203855</td>\n",
       "      <td>0.594548</td>\n",
       "      <td>1.345886e-01</td>\n",
       "      <td>6.032417e-02</td>\n",
       "      <td>3164.797366</td>\n",
       "      <td>8080.968564</td>\n",
       "    </tr>\n",
       "    <tr>\n",
       "      <th>std</th>\n",
       "      <td>45.876648</td>\n",
       "      <td>6.745237</td>\n",
       "      <td>4.082695</td>\n",
       "      <td>0.561875</td>\n",
       "      <td>0.271174</td>\n",
       "      <td>1.006657e-01</td>\n",
       "      <td>5.090593e-02</td>\n",
       "      <td>5284.770364</td>\n",
       "      <td>11814.771334</td>\n",
       "    </tr>\n",
       "    <tr>\n",
       "      <th>min</th>\n",
       "      <td>0.000000</td>\n",
       "      <td>0.000000</td>\n",
       "      <td>0.000000</td>\n",
       "      <td>1.000000</td>\n",
       "      <td>0.044333</td>\n",
       "      <td>1.011300e-08</td>\n",
       "      <td>1.740170e-10</td>\n",
       "      <td>0.000000</td>\n",
       "      <td>0.000000</td>\n",
       "    </tr>\n",
       "    <tr>\n",
       "      <th>25%</th>\n",
       "      <td>10.000000</td>\n",
       "      <td>10.000000</td>\n",
       "      <td>1.000000</td>\n",
       "      <td>1.000000</td>\n",
       "      <td>0.364412</td>\n",
       "      <td>5.388625e-02</td>\n",
       "      <td>1.622240e-02</td>\n",
       "      <td>624.500000</td>\n",
       "      <td>1415.000000</td>\n",
       "    </tr>\n",
       "    <tr>\n",
       "      <th>50%</th>\n",
       "      <td>11.000000</td>\n",
       "      <td>10.000000</td>\n",
       "      <td>1.100000</td>\n",
       "      <td>1.000000</td>\n",
       "      <td>0.588230</td>\n",
       "      <td>1.181810e-01</td>\n",
       "      <td>4.944380e-02</td>\n",
       "      <td>1473.500000</td>\n",
       "      <td>3603.500000</td>\n",
       "    </tr>\n",
       "    <tr>\n",
       "      <th>75%</th>\n",
       "      <td>12.000000</td>\n",
       "      <td>10.000000</td>\n",
       "      <td>1.200000</td>\n",
       "      <td>1.000000</td>\n",
       "      <td>0.843855</td>\n",
       "      <td>1.955655e-01</td>\n",
       "      <td>9.180755e-02</td>\n",
       "      <td>3652.000000</td>\n",
       "      <td>10122.250000</td>\n",
       "    </tr>\n",
       "    <tr>\n",
       "      <th>max</th>\n",
       "      <td>1776.000000</td>\n",
       "      <td>170.000000</td>\n",
       "      <td>177.600000</td>\n",
       "      <td>4.000000</td>\n",
       "      <td>1.000000</td>\n",
       "      <td>4.880140e-01</td>\n",
       "      <td>2.734190e-01</td>\n",
       "      <td>79515.000000</td>\n",
       "      <td>132810.000000</td>\n",
       "    </tr>\n",
       "  </tbody>\n",
       "</table>\n",
       "</div>"
      ],
      "text/plain": [
       "       rating_numerator  rating_denominator       rating      img_num  \\\n",
       "count       2356.000000         2356.000000  2356.000000  2075.000000   \n",
       "mean          13.126486           10.455433     1.221513     1.203855   \n",
       "std           45.876648            6.745237     4.082695     0.561875   \n",
       "min            0.000000            0.000000     0.000000     1.000000   \n",
       "25%           10.000000           10.000000     1.000000     1.000000   \n",
       "50%           11.000000           10.000000     1.100000     1.000000   \n",
       "75%           12.000000           10.000000     1.200000     1.000000   \n",
       "max         1776.000000          170.000000   177.600000     4.000000   \n",
       "\n",
       "           p1_conf       p2_conf       p3_conf  retweet_count  favorite_count  \n",
       "count  2075.000000  2.075000e+03  2.075000e+03    2354.000000     2354.000000  \n",
       "mean      0.594548  1.345886e-01  6.032417e-02    3164.797366     8080.968564  \n",
       "std       0.271174  1.006657e-01  5.090593e-02    5284.770364    11814.771334  \n",
       "min       0.044333  1.011300e-08  1.740170e-10       0.000000        0.000000  \n",
       "25%       0.364412  5.388625e-02  1.622240e-02     624.500000     1415.000000  \n",
       "50%       0.588230  1.181810e-01  4.944380e-02    1473.500000     3603.500000  \n",
       "75%       0.843855  1.955655e-01  9.180755e-02    3652.000000    10122.250000  \n",
       "max       1.000000  4.880140e-01  2.734190e-01   79515.000000   132810.000000  "
      ]
     },
     "execution_count": 85,
     "metadata": {},
     "output_type": "execute_result"
    }
   ],
   "source": [
    "twitter_archive_master.describe()"
   ]
  },
  {
   "cell_type": "code",
   "execution_count": null,
   "id": "3ec044fb",
   "metadata": {},
   "outputs": [],
   "source": []
  },
  {
   "cell_type": "code",
   "execution_count": 86,
   "id": "a08e473c",
   "metadata": {},
   "outputs": [],
   "source": [
    "twitter_archive_master.to_csv('twitter_archive_master.csv', index=False)  "
   ]
  },
  {
   "cell_type": "markdown",
   "id": "a552301e",
   "metadata": {},
   "source": [
    "# Exploratory Data Analysis(EDA)"
   ]
  },
  {
   "cell_type": "code",
   "execution_count": 165,
   "id": "c9f9c772",
   "metadata": {},
   "outputs": [
    {
     "data": {
      "image/png": "[encoded data removed]",
      "text/plain": [
       "<Figure size 1008x504 with 1 Axes>"
      ]
     },
     "metadata": {},
     "output_type": "display_data"
    }
   ],
   "source": [
    "sns.boxplot(y=twitter_archive_master[\"rating\"]);\n",
    "plt.show()"
   ]
  },
  {
   "cell_type": "code",
   "execution_count": 88,
   "id": "bb427a1b",
   "metadata": {},
   "outputs": [
    {
     "data": {
      "text/html": [
       "<div>\n",
       "<style scoped>\n",
       "    .dataframe tbody tr th:only-of-type {\n",
       "        vertical-align: middle;\n",
       "    }\n",
       "\n",
       "    .dataframe tbody tr th {\n",
       "        vertical-align: top;\n",
       "    }\n",
       "\n",
       "    .dataframe thead th {\n",
       "        text-align: right;\n",
       "    }\n",
       "</style>\n",
       "<table border=\"1\" class=\"dataframe\">\n",
       "  <thead>\n",
       "    <tr style=\"text-align: right;\">\n",
       "      <th></th>\n",
       "      <th>favorite_count</th>\n",
       "      <th>retweet_count</th>\n",
       "    </tr>\n",
       "  </thead>\n",
       "  <tbody>\n",
       "    <tr>\n",
       "      <th>413</th>\n",
       "      <td>132810.0</td>\n",
       "      <td>48265.0</td>\n",
       "    </tr>\n",
       "    <tr>\n",
       "      <th>1039</th>\n",
       "      <td>131075.0</td>\n",
       "      <td>79515.0</td>\n",
       "    </tr>\n",
       "    <tr>\n",
       "      <th>66</th>\n",
       "      <td>107956.0</td>\n",
       "      <td>45849.0</td>\n",
       "    </tr>\n",
       "    <tr>\n",
       "      <th>534</th>\n",
       "      <td>107015.0</td>\n",
       "      <td>56625.0</td>\n",
       "    </tr>\n",
       "    <tr>\n",
       "      <th>135</th>\n",
       "      <td>106827.0</td>\n",
       "      <td>32883.0</td>\n",
       "    </tr>\n",
       "    <tr>\n",
       "      <th>...</th>\n",
       "      <td>...</td>\n",
       "      <td>...</td>\n",
       "    </tr>\n",
       "    <tr>\n",
       "      <th>885</th>\n",
       "      <td>0.0</td>\n",
       "      <td>38.0</td>\n",
       "    </tr>\n",
       "    <tr>\n",
       "      <th>479</th>\n",
       "      <td>0.0</td>\n",
       "      <td>4797.0</td>\n",
       "    </tr>\n",
       "    <tr>\n",
       "      <th>476</th>\n",
       "      <td>0.0</td>\n",
       "      <td>6154.0</td>\n",
       "    </tr>\n",
       "    <tr>\n",
       "      <th>475</th>\n",
       "      <td>0.0</td>\n",
       "      <td>1207.0</td>\n",
       "    </tr>\n",
       "    <tr>\n",
       "      <th>868</th>\n",
       "      <td>0.0</td>\n",
       "      <td>4535.0</td>\n",
       "    </tr>\n",
       "  </tbody>\n",
       "</table>\n",
       "<p>2354 rows × 2 columns</p>\n",
       "</div>"
      ],
      "text/plain": [
       "      favorite_count  retweet_count\n",
       "413         132810.0        48265.0\n",
       "1039        131075.0        79515.0\n",
       "66          107956.0        45849.0\n",
       "534         107015.0        56625.0\n",
       "135         106827.0        32883.0\n",
       "...              ...            ...\n",
       "885              0.0           38.0\n",
       "479              0.0         4797.0\n",
       "476              0.0         6154.0\n",
       "475              0.0         1207.0\n",
       "868              0.0         4535.0\n",
       "\n",
       "[2354 rows x 2 columns]"
      ]
     },
     "execution_count": 88,
     "metadata": {},
     "output_type": "execute_result"
    }
   ],
   "source": [
    "df=twitter_archive_master.sort_values(by='favorite_count', ascending=False)\n",
    "df=df[['favorite_count','retweet_count']]\n",
    "df.dropna()"
   ]
  },
  {
   "cell_type": "code",
   "execution_count": 155,
   "id": "fe6d942b",
   "metadata": {},
   "outputs": [
    {
     "data": {
      "image/png": "[encoded data removed]",
      "text/plain": [
       "<Figure size 864x432 with 1 Axes>"
      ]
     },
     "metadata": {},
     "output_type": "display_data"
    }
   ],
   "source": [
    "sns.set(rc={'figure.figsize':(12,6)})\n",
    "sns.scatterplot(x=\"favorite_count\", y=\"retweet_count\", data=df)\n",
    "plt.title(\"Relationship between favorite and retweet\", fontweight='bold')\n",
    "plt.xlabel('Favorite')\n",
    "plt.ylabel('Retweet')\n",
    "plt.savefig('scatter.png',bbox_inches='tight')\n",
    "plt.show()"
   ]
  },
  {
   "cell_type": "code",
   "execution_count": 90,
   "id": "89ed1a1b",
   "metadata": {},
   "outputs": [
    {
     "data": {
      "text/plain": [
       "iPhone         2221\n",
       "Vine             91\n",
       "Twitter Web      33\n",
       "TweetDeck        11\n",
       "Name: source, dtype: int64"
      ]
     },
     "execution_count": 90,
     "metadata": {},
     "output_type": "execute_result"
    }
   ],
   "source": [
    "source=twitter_archive_master['source'].value_counts()\n",
    "source\n",
    "\n"
   ]
  },
  {
   "cell_type": "code",
   "execution_count": 157,
   "id": "75c9955b",
   "metadata": {},
   "outputs": [
    {
     "data": {
      "image/png": "[encoded data removed]",
      "text/plain": [
       "<Figure size 720x576 with 1 Axes>"
      ]
     },
     "metadata": {},
     "output_type": "display_data"
    }
   ],
   "source": [
    "plt.figure(figsize=(10,8))\n",
    "explode = [0, 0,0,0.1]\n",
    "twitter_archive_master['source'].value_counts().plot(kind='pie', explode=explode, autopct='%1.2f%%', ylabel=\"\")\n",
    "plt.title(\"Source\", fontweight='bold')\n",
    "plt.savefig('pie.png',bbox_inches='tight')\n",
    "plt.show()"
   ]
  },
  {
   "cell_type": "code",
   "execution_count": 92,
   "id": "939d52c8",
   "metadata": {},
   "outputs": [
    {
     "data": {
      "text/plain": [
       "1.0    1780\n",
       "2.0     198\n",
       "3.0      66\n",
       "4.0      31\n",
       "Name: img_num, dtype: int64"
      ]
     },
     "execution_count": 92,
     "metadata": {},
     "output_type": "execute_result"
    }
   ],
   "source": [
    "Number_Image=twitter_archive_master['img_num'].value_counts()\n",
    "Number_Image\n",
    "\n"
   ]
  },
  {
   "cell_type": "code",
   "execution_count": 167,
   "id": "2d763267",
   "metadata": {},
   "outputs": [
    {
     "data": {
      "image/png": "[encoded data removed]",
      "text/plain": [
       "<Figure size 864x432 with 1 Axes>"
      ]
     },
     "metadata": {},
     "output_type": "display_data"
    }
   ],
   "source": [
    "plt.figure(figsize=(12,6))\n",
    "sns.countplot(x=twitter_archive_master['img_num'])\n",
    "plt.title(\"Number of images in tweet\", fontweight='bold')\n",
    "plt.xlabel('Image')\n",
    "plt.savefig('image.png',bbox_inches='tight')\n",
    "plt.show()"
   ]
  },
  {
   "cell_type": "code",
   "execution_count": 94,
   "id": "bb674cde",
   "metadata": {},
   "outputs": [
    {
     "data": {
      "text/plain": [
       "pupper           245\n",
       "doggo             83\n",
       "puppo             29\n",
       "doggo,pupper      12\n",
       "floofer            9\n",
       "doggo,floofer      1\n",
       "doggo,puppo        1\n",
       "Name: dog_type, dtype: int64"
      ]
     },
     "execution_count": 94,
     "metadata": {},
     "output_type": "execute_result"
    }
   ],
   "source": [
    "twitter_archive_master['dog_type'].value_counts()"
   ]
  },
  {
   "cell_type": "code",
   "execution_count": 95,
   "id": "5b06ad90",
   "metadata": {},
   "outputs": [],
   "source": [
    "order=['doggo,puppo','doggo,floofer','floofer','doggo,pupper','puppo','doggo','pupper' ]"
   ]
  },
  {
   "cell_type": "code",
   "execution_count": 159,
   "id": "ebe254d1",
   "metadata": {},
   "outputs": [
    {
     "data": {
      "image/png": "[encoded data removed]",
      "text/plain": [
       "<Figure size 864x432 with 1 Axes>"
      ]
     },
     "metadata": {},
     "output_type": "display_data"
    }
   ],
   "source": [
    "plt.figure(figsize=(12,6))\n",
    "sns.countplot(x=twitter_archive_master['dog_type'],order=order)\n",
    "plt.title(\"Types of Dog\", fontweight='bold')\n",
    "plt.xlabel('Dog type')\n",
    "plt.savefig('type.png',bbox_inches='tight')\n",
    "plt.show()"
   ]
  },
  {
   "cell_type": "code",
   "execution_count": 160,
   "id": "ffa69b2d",
   "metadata": {},
   "outputs": [
    {
     "data": {
      "text/html": [
       "<div>\n",
       "<style scoped>\n",
       "    .dataframe tbody tr th:only-of-type {\n",
       "        vertical-align: middle;\n",
       "    }\n",
       "\n",
       "    .dataframe tbody tr th {\n",
       "        vertical-align: top;\n",
       "    }\n",
       "\n",
       "    .dataframe thead th {\n",
       "        text-align: right;\n",
       "    }\n",
       "</style>\n",
       "<table border=\"1\" class=\"dataframe\">\n",
       "  <thead>\n",
       "    <tr style=\"text-align: right;\">\n",
       "      <th></th>\n",
       "      <th>favorite_count</th>\n",
       "      <th>time</th>\n",
       "      <th>date</th>\n",
       "    </tr>\n",
       "  </thead>\n",
       "  <tbody>\n",
       "    <tr>\n",
       "      <th>413</th>\n",
       "      <td>132810.0</td>\n",
       "      <td>18:26:02</td>\n",
       "      <td>2017-01-21</td>\n",
       "    </tr>\n",
       "    <tr>\n",
       "      <th>1039</th>\n",
       "      <td>131075.0</td>\n",
       "      <td>18:26:18</td>\n",
       "      <td>2016-06-18</td>\n",
       "    </tr>\n",
       "    <tr>\n",
       "      <th>66</th>\n",
       "      <td>107956.0</td>\n",
       "      <td>19:07:24</td>\n",
       "      <td>2017-06-26</td>\n",
       "    </tr>\n",
       "    <tr>\n",
       "      <th>534</th>\n",
       "      <td>107015.0</td>\n",
       "      <td>06:17:20</td>\n",
       "      <td>2016-12-09</td>\n",
       "    </tr>\n",
       "    <tr>\n",
       "      <th>135</th>\n",
       "      <td>106827.0</td>\n",
       "      <td>00:28:40</td>\n",
       "      <td>2017-05-22</td>\n",
       "    </tr>\n",
       "  </tbody>\n",
       "</table>\n",
       "</div>"
      ],
      "text/plain": [
       "      favorite_count      time        date\n",
       "413         132810.0  18:26:02  2017-01-21\n",
       "1039        131075.0  18:26:18  2016-06-18\n",
       "66          107956.0  19:07:24  2017-06-26\n",
       "534         107015.0  06:17:20  2016-12-09\n",
       "135         106827.0  00:28:40  2017-05-22"
      ]
     },
     "execution_count": 160,
     "metadata": {},
     "output_type": "execute_result"
    }
   ],
   "source": [
    "df=twitter_archive_master.sort_values(by='favorite_count', ascending=False)\n",
    "df=df[['favorite_count','time','date']].head()\n",
    "df.dropna()"
   ]
  },
  {
   "cell_type": "code",
   "execution_count": 162,
   "id": "6cef03e3",
   "metadata": {},
   "outputs": [
    {
     "data": {
      "image/png": "[encoded data removed]",
      "text/plain": [
       "<Figure size 1008x504 with 1 Axes>"
      ]
     },
     "metadata": {},
     "output_type": "display_data"
    }
   ],
   "source": [
    "sns.set(rc={'figure.figsize':(14,7)})\n",
    "sns.barplot(y=\"time\",x=\"favorite_count\",palette = \"Dark2\",data=df)\n",
    "plt.title(\"Favorite and Time\", fontweight='bold')\n",
    "plt.xlabel(\"Favorite Counts\")\n",
    "plt.ylabel(\"Time\")\n",
    "plt.savefig('time.png',bbox_inches='tight')\n",
    "plt.show()"
   ]
  },
  {
   "cell_type": "code",
   "execution_count": 139,
   "id": "1130a220",
   "metadata": {},
   "outputs": [],
   "source": [
    "df=twitter_archive_master.sort_values(by='favorite_count', ascending=False)\n",
    "df=df[['favorite_count','retweet_count','img_num','dog_type','name','rating','time']]"
   ]
  },
  {
   "cell_type": "code",
   "execution_count": 140,
   "id": "bd2cc48f",
   "metadata": {},
   "outputs": [
    {
     "data": {
      "text/html": [
       "<div>\n",
       "<style scoped>\n",
       "    .dataframe tbody tr th:only-of-type {\n",
       "        vertical-align: middle;\n",
       "    }\n",
       "\n",
       "    .dataframe tbody tr th {\n",
       "        vertical-align: top;\n",
       "    }\n",
       "\n",
       "    .dataframe thead th {\n",
       "        text-align: right;\n",
       "    }\n",
       "</style>\n",
       "<table border=\"1\" class=\"dataframe\">\n",
       "  <thead>\n",
       "    <tr style=\"text-align: right;\">\n",
       "      <th></th>\n",
       "      <th>favorite_count</th>\n",
       "      <th>retweet_count</th>\n",
       "      <th>img_num</th>\n",
       "      <th>dog_type</th>\n",
       "      <th>name</th>\n",
       "      <th>rating</th>\n",
       "      <th>time</th>\n",
       "    </tr>\n",
       "  </thead>\n",
       "  <tbody>\n",
       "    <tr>\n",
       "      <th>413</th>\n",
       "      <td>132810.0</td>\n",
       "      <td>48265.0</td>\n",
       "      <td>1.0</td>\n",
       "      <td>puppo</td>\n",
       "      <td>&lt;NA&gt;</td>\n",
       "      <td>1.3</td>\n",
       "      <td>18:26:02</td>\n",
       "    </tr>\n",
       "    <tr>\n",
       "      <th>1039</th>\n",
       "      <td>131075.0</td>\n",
       "      <td>79515.0</td>\n",
       "      <td>1.0</td>\n",
       "      <td>doggo</td>\n",
       "      <td>&lt;NA&gt;</td>\n",
       "      <td>1.3</td>\n",
       "      <td>18:26:18</td>\n",
       "    </tr>\n",
       "    <tr>\n",
       "      <th>66</th>\n",
       "      <td>107956.0</td>\n",
       "      <td>45849.0</td>\n",
       "      <td>1.0</td>\n",
       "      <td>NaN</td>\n",
       "      <td>Duddles</td>\n",
       "      <td>1.3</td>\n",
       "      <td>19:07:24</td>\n",
       "    </tr>\n",
       "    <tr>\n",
       "      <th>534</th>\n",
       "      <td>107015.0</td>\n",
       "      <td>56625.0</td>\n",
       "      <td>1.0</td>\n",
       "      <td>NaN</td>\n",
       "      <td>Stephan</td>\n",
       "      <td>1.3</td>\n",
       "      <td>06:17:20</td>\n",
       "    </tr>\n",
       "    <tr>\n",
       "      <th>135</th>\n",
       "      <td>106827.0</td>\n",
       "      <td>32883.0</td>\n",
       "      <td>2.0</td>\n",
       "      <td>pupper</td>\n",
       "      <td>Jamesy</td>\n",
       "      <td>1.3</td>\n",
       "      <td>00:28:40</td>\n",
       "    </tr>\n",
       "    <tr>\n",
       "      <th>449</th>\n",
       "      <td>95450.0</td>\n",
       "      <td>42228.0</td>\n",
       "      <td>1.0</td>\n",
       "      <td>doggo</td>\n",
       "      <td>Bo</td>\n",
       "      <td>1.4</td>\n",
       "      <td>02:15:36</td>\n",
       "    </tr>\n",
       "    <tr>\n",
       "      <th>115</th>\n",
       "      <td>85011.0</td>\n",
       "      <td>27680.0</td>\n",
       "      <td>1.0</td>\n",
       "      <td>NaN</td>\n",
       "      <td>Zoey</td>\n",
       "      <td>1.3</td>\n",
       "      <td>20:18:38</td>\n",
       "    </tr>\n",
       "    <tr>\n",
       "      <th>537</th>\n",
       "      <td>75639.0</td>\n",
       "      <td>37911.0</td>\n",
       "      <td>2.0</td>\n",
       "      <td>NaN</td>\n",
       "      <td>&lt;NA&gt;</td>\n",
       "      <td>1.3</td>\n",
       "      <td>22:38:52</td>\n",
       "    </tr>\n",
       "    <tr>\n",
       "      <th>169</th>\n",
       "      <td>75193.0</td>\n",
       "      <td>25661.0</td>\n",
       "      <td>1.0</td>\n",
       "      <td>NaN</td>\n",
       "      <td>quite</td>\n",
       "      <td>1.2</td>\n",
       "      <td>00:04:57</td>\n",
       "    </tr>\n",
       "    <tr>\n",
       "      <th>1079</th>\n",
       "      <td>75163.0</td>\n",
       "      <td>52360.0</td>\n",
       "      <td>1.0</td>\n",
       "      <td>doggo</td>\n",
       "      <td>&lt;NA&gt;</td>\n",
       "      <td>1.3</td>\n",
       "      <td>23:31:25</td>\n",
       "    </tr>\n",
       "  </tbody>\n",
       "</table>\n",
       "</div>"
      ],
      "text/plain": [
       "      favorite_count  retweet_count  img_num dog_type     name  rating  \\\n",
       "413         132810.0        48265.0      1.0    puppo     <NA>     1.3   \n",
       "1039        131075.0        79515.0      1.0    doggo     <NA>     1.3   \n",
       "66          107956.0        45849.0      1.0      NaN  Duddles     1.3   \n",
       "534         107015.0        56625.0      1.0      NaN  Stephan     1.3   \n",
       "135         106827.0        32883.0      2.0   pupper   Jamesy     1.3   \n",
       "449          95450.0        42228.0      1.0    doggo       Bo     1.4   \n",
       "115          85011.0        27680.0      1.0      NaN     Zoey     1.3   \n",
       "537          75639.0        37911.0      2.0      NaN     <NA>     1.3   \n",
       "169          75193.0        25661.0      1.0      NaN    quite     1.2   \n",
       "1079         75163.0        52360.0      1.0    doggo     <NA>     1.3   \n",
       "\n",
       "          time  \n",
       "413   18:26:02  \n",
       "1039  18:26:18  \n",
       "66    19:07:24  \n",
       "534   06:17:20  \n",
       "135   00:28:40  \n",
       "449   02:15:36  \n",
       "115   20:18:38  \n",
       "537   22:38:52  \n",
       "169   00:04:57  \n",
       "1079  23:31:25  "
      ]
     },
     "execution_count": 140,
     "metadata": {},
     "output_type": "execute_result"
    }
   ],
   "source": [
    "df.head(10)"
   ]
  },
  {
   "cell_type": "code",
   "execution_count": 141,
   "id": "097a66d7",
   "metadata": {},
   "outputs": [],
   "source": [
    "df1=twitter_archive_master.sort_values(by='retweet_count', ascending=False)\n",
    "df1=df1[['retweet_count','favorite_count','img_num','dog_type','name','rating','time']]"
   ]
  },
  {
   "cell_type": "code",
   "execution_count": 142,
   "id": "6bb52b80",
   "metadata": {},
   "outputs": [
    {
     "data": {
      "text/html": [
       "<div>\n",
       "<style scoped>\n",
       "    .dataframe tbody tr th:only-of-type {\n",
       "        vertical-align: middle;\n",
       "    }\n",
       "\n",
       "    .dataframe tbody tr th {\n",
       "        vertical-align: top;\n",
       "    }\n",
       "\n",
       "    .dataframe thead th {\n",
       "        text-align: right;\n",
       "    }\n",
       "</style>\n",
       "<table border=\"1\" class=\"dataframe\">\n",
       "  <thead>\n",
       "    <tr style=\"text-align: right;\">\n",
       "      <th></th>\n",
       "      <th>retweet_count</th>\n",
       "      <th>favorite_count</th>\n",
       "      <th>img_num</th>\n",
       "      <th>dog_type</th>\n",
       "      <th>name</th>\n",
       "      <th>rating</th>\n",
       "      <th>time</th>\n",
       "    </tr>\n",
       "  </thead>\n",
       "  <tbody>\n",
       "    <tr>\n",
       "      <th>1039</th>\n",
       "      <td>79515.0</td>\n",
       "      <td>131075.0</td>\n",
       "      <td>1.0</td>\n",
       "      <td>doggo</td>\n",
       "      <td>&lt;NA&gt;</td>\n",
       "      <td>1.3</td>\n",
       "      <td>18:26:18</td>\n",
       "    </tr>\n",
       "    <tr>\n",
       "      <th>260</th>\n",
       "      <td>56625.0</td>\n",
       "      <td>0.0</td>\n",
       "      <td>1.0</td>\n",
       "      <td>NaN</td>\n",
       "      <td>Stephan</td>\n",
       "      <td>1.3</td>\n",
       "      <td>00:15:37</td>\n",
       "    </tr>\n",
       "    <tr>\n",
       "      <th>534</th>\n",
       "      <td>56625.0</td>\n",
       "      <td>107015.0</td>\n",
       "      <td>1.0</td>\n",
       "      <td>NaN</td>\n",
       "      <td>Stephan</td>\n",
       "      <td>1.3</td>\n",
       "      <td>06:17:20</td>\n",
       "    </tr>\n",
       "    <tr>\n",
       "      <th>818</th>\n",
       "      <td>52360.0</td>\n",
       "      <td>0.0</td>\n",
       "      <td>NaN</td>\n",
       "      <td>doggo</td>\n",
       "      <td>&lt;NA&gt;</td>\n",
       "      <td>1.3</td>\n",
       "      <td>22:04:05</td>\n",
       "    </tr>\n",
       "    <tr>\n",
       "      <th>1079</th>\n",
       "      <td>52360.0</td>\n",
       "      <td>75163.0</td>\n",
       "      <td>1.0</td>\n",
       "      <td>doggo</td>\n",
       "      <td>&lt;NA&gt;</td>\n",
       "      <td>1.3</td>\n",
       "      <td>23:31:25</td>\n",
       "    </tr>\n",
       "    <tr>\n",
       "      <th>413</th>\n",
       "      <td>48265.0</td>\n",
       "      <td>132810.0</td>\n",
       "      <td>1.0</td>\n",
       "      <td>puppo</td>\n",
       "      <td>&lt;NA&gt;</td>\n",
       "      <td>1.3</td>\n",
       "      <td>18:26:02</td>\n",
       "    </tr>\n",
       "    <tr>\n",
       "      <th>66</th>\n",
       "      <td>45849.0</td>\n",
       "      <td>107956.0</td>\n",
       "      <td>1.0</td>\n",
       "      <td>NaN</td>\n",
       "      <td>Duddles</td>\n",
       "      <td>1.3</td>\n",
       "      <td>19:07:24</td>\n",
       "    </tr>\n",
       "    <tr>\n",
       "      <th>449</th>\n",
       "      <td>42228.0</td>\n",
       "      <td>95450.0</td>\n",
       "      <td>1.0</td>\n",
       "      <td>doggo</td>\n",
       "      <td>Bo</td>\n",
       "      <td>1.4</td>\n",
       "      <td>02:15:36</td>\n",
       "    </tr>\n",
       "    <tr>\n",
       "      <th>446</th>\n",
       "      <td>42228.0</td>\n",
       "      <td>0.0</td>\n",
       "      <td>1.0</td>\n",
       "      <td>doggo</td>\n",
       "      <td>Bo</td>\n",
       "      <td>1.4</td>\n",
       "      <td>02:57:27</td>\n",
       "    </tr>\n",
       "    <tr>\n",
       "      <th>155</th>\n",
       "      <td>37911.0</td>\n",
       "      <td>0.0</td>\n",
       "      <td>2.0</td>\n",
       "      <td>NaN</td>\n",
       "      <td>&lt;NA&gt;</td>\n",
       "      <td>1.3</td>\n",
       "      <td>02:29:07</td>\n",
       "    </tr>\n",
       "  </tbody>\n",
       "</table>\n",
       "</div>"
      ],
      "text/plain": [
       "      retweet_count  favorite_count  img_num dog_type     name  rating  \\\n",
       "1039        79515.0        131075.0      1.0    doggo     <NA>     1.3   \n",
       "260         56625.0             0.0      1.0      NaN  Stephan     1.3   \n",
       "534         56625.0        107015.0      1.0      NaN  Stephan     1.3   \n",
       "818         52360.0             0.0      NaN    doggo     <NA>     1.3   \n",
       "1079        52360.0         75163.0      1.0    doggo     <NA>     1.3   \n",
       "413         48265.0        132810.0      1.0    puppo     <NA>     1.3   \n",
       "66          45849.0        107956.0      1.0      NaN  Duddles     1.3   \n",
       "449         42228.0         95450.0      1.0    doggo       Bo     1.4   \n",
       "446         42228.0             0.0      1.0    doggo       Bo     1.4   \n",
       "155         37911.0             0.0      2.0      NaN     <NA>     1.3   \n",
       "\n",
       "          time  \n",
       "1039  18:26:18  \n",
       "260   00:15:37  \n",
       "534   06:17:20  \n",
       "818   22:04:05  \n",
       "1079  23:31:25  \n",
       "413   18:26:02  \n",
       "66    19:07:24  \n",
       "449   02:15:36  \n",
       "446   02:57:27  \n",
       "155   02:29:07  "
      ]
     },
     "execution_count": 142,
     "metadata": {},
     "output_type": "execute_result"
    }
   ],
   "source": [
    "df1.head(10)"
   ]
  },
  {
   "cell_type": "code",
   "execution_count": null,
   "id": "969f3361",
   "metadata": {},
   "outputs": [],
   "source": []
  },
  {
   "cell_type": "code",
   "execution_count": null,
   "id": "32281b5d",
   "metadata": {},
   "outputs": [],
   "source": []
  }
 ],
 "metadata": {
  "kernelspec": {
   "display_name": "Python 3 (ipykernel)",
   "language": "python",
   "name": "python3"
  },
  "language_info": {
   "codemirror_mode": {
    "name": "ipython",
    "version": 3
   },
   "file_extension": ".py",
   "mimetype": "text/x-python",
   "name": "python",
   "nbconvert_exporter": "python",
   "pygments_lexer": "ipython3",
   "version": "3.9.12"
  }
 },
 "nbformat": 4,
 "nbformat_minor": 5
}
